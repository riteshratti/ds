{
 "cells": [
  {
   "cell_type": "code",
   "execution_count": 18,
   "metadata": {},
   "outputs": [],
   "source": [
    "##libraries required\n",
    "import math\n",
    "import re\n",
    "from nltk.metrics import ConfusionMatrix\n",
    "import random\n",
    "import numpy as np\n",
    "import warnings\n",
    "warnings.filterwarnings('ignore')\n",
    "import pickle\n",
    "import numpy\n",
    "import csv\n",
    "from sklearn.feature_extraction import DictVectorizer\n",
    "from sklearn.preprocessing import MaxAbsScaler\n",
    "from sklearn.preprocessing import MinMaxScaler\n",
    "import pandas as pd\n",
    "from sklearn.model_selection import train_test_split\n",
    "import matplotlib.pyplot as plt\n",
    "from matplotlib import interactive\n",
    "interactive(True)\n",
    "import pandas as pd\n",
    "import seaborn\n",
    "from nltk.metrics import ConfusionMatrix\n",
    "import nltk\n",
    "from nltk.stem import WordNetLemmatizer \n",
    "  "
   ]
  },
  {
   "cell_type": "code",
   "execution_count": 2,
   "metadata": {},
   "outputs": [],
   "source": [
    "#https://www.kaggle.com/sebastienverpile/consumercomplaintsdata"
   ]
  },
  {
   "cell_type": "code",
   "execution_count": 26,
   "metadata": {},
   "outputs": [
    {
     "name": "stderr",
     "output_type": "stream",
     "text": [
      "[nltk_data] Downloading package wordnet to\n",
      "[nltk_data]     /Users/ritesh.ratti/nltk_data...\n",
      "[nltk_data]   Package wordnet is already up-to-date!\n",
      "[nltk_data] Downloading package stopwords to\n",
      "[nltk_data]     /Users/ritesh.ratti/nltk_data...\n",
      "[nltk_data]   Unzipping corpora/stopwords.zip.\n"
     ]
    },
    {
     "data": {
      "text/plain": [
       "True"
      ]
     },
     "execution_count": 26,
     "metadata": {},
     "output_type": "execute_result"
    }
   ],
   "source": [
    "nltk.download('wordnet')\n",
    "nltk.download('stopwords')"
   ]
  },
  {
   "cell_type": "markdown",
   "metadata": {},
   "source": [
    "# READ JOINED DATA"
   ]
  },
  {
   "cell_type": "code",
   "execution_count": 4,
   "metadata": {},
   "outputs": [],
   "source": [
    "pdfJoinedFinal = pd.read_csv('joineddata.csv')\n"
   ]
  },
  {
   "cell_type": "code",
   "execution_count": 5,
   "metadata": {},
   "outputs": [
    {
     "data": {
      "text/html": [
       "<div>\n",
       "<style scoped>\n",
       "    .dataframe tbody tr th:only-of-type {\n",
       "        vertical-align: middle;\n",
       "    }\n",
       "\n",
       "    .dataframe tbody tr th {\n",
       "        vertical-align: top;\n",
       "    }\n",
       "\n",
       "    .dataframe thead th {\n",
       "        text-align: right;\n",
       "    }\n",
       "</style>\n",
       "<table border=\"1\" class=\"dataframe\">\n",
       "  <thead>\n",
       "    <tr style=\"text-align: right;\">\n",
       "      <th></th>\n",
       "      <th>COMPLAINT_ID</th>\n",
       "      <th>COMPLAINT_TEXT</th>\n",
       "      <th>WAS_USER_DISPUTED</th>\n",
       "      <th>DATE_COMPLAINT_USER</th>\n",
       "      <th>PRODUCT_ID</th>\n",
       "      <th>ISSUE_ID</th>\n",
       "      <th>COMPANY</th>\n",
       "      <th>COMPANY_RESPONSE_TO_USER</th>\n",
       "      <th>COMPANY_RESPONSE_TO_PUBLIC</th>\n",
       "      <th>WAS_RESPONSE_TIMELY</th>\n",
       "      <th>DATE_COMPLAINT_COMPANY</th>\n",
       "      <th>MAIN_ISSUE</th>\n",
       "      <th>SUB_ISSUE</th>\n",
       "      <th>MAIN_PRODUCT</th>\n",
       "      <th>SUB_PRODUCT</th>\n",
       "    </tr>\n",
       "  </thead>\n",
       "  <tbody>\n",
       "    <tr>\n",
       "      <th>0</th>\n",
       "      <td>3184195</td>\n",
       "      <td>XXXX  and Transunion are reporting incorrectly...</td>\n",
       "      <td>No</td>\n",
       "      <td>03/19/2019</td>\n",
       "      <td>26</td>\n",
       "      <td>253</td>\n",
       "      <td>TRANSUNION INTERMEDIATE HOLDINGS, INC.</td>\n",
       "      <td>Closed with explanation</td>\n",
       "      <td>Company has responded to the consumer and the ...</td>\n",
       "      <td>Yes</td>\n",
       "      <td>03/19/2019</td>\n",
       "      <td>Problem with a credit reporting company's inve...</td>\n",
       "      <td>Their investigation did not fix an error on yo...</td>\n",
       "      <td>Credit reporting, credit repair services, or o...</td>\n",
       "      <td>Credit reporting</td>\n",
       "    </tr>\n",
       "    <tr>\n",
       "      <th>1</th>\n",
       "      <td>3184692</td>\n",
       "      <td>XXXX and Transunion are reporting incorrectly ...</td>\n",
       "      <td>No</td>\n",
       "      <td>03/19/2019</td>\n",
       "      <td>26</td>\n",
       "      <td>253</td>\n",
       "      <td>TRANSUNION INTERMEDIATE HOLDINGS, INC.</td>\n",
       "      <td>Closed with explanation</td>\n",
       "      <td>Company has responded to the consumer and the ...</td>\n",
       "      <td>Yes</td>\n",
       "      <td>03/19/2019</td>\n",
       "      <td>Problem with a credit reporting company's inve...</td>\n",
       "      <td>Their investigation did not fix an error on yo...</td>\n",
       "      <td>Credit reporting, credit repair services, or o...</td>\n",
       "      <td>Credit reporting</td>\n",
       "    </tr>\n",
       "    <tr>\n",
       "      <th>2</th>\n",
       "      <td>3182430</td>\n",
       "      <td>3 company with inconsistencies, violations and...</td>\n",
       "      <td>No</td>\n",
       "      <td>03/17/2019</td>\n",
       "      <td>26</td>\n",
       "      <td>253</td>\n",
       "      <td>McCarthy, Burgess &amp; Wolff, Inc.</td>\n",
       "      <td>Closed with explanation</td>\n",
       "      <td>Company believes it acted appropriately as aut...</td>\n",
       "      <td>Yes</td>\n",
       "      <td>03/17/2019</td>\n",
       "      <td>Problem with a credit reporting company's inve...</td>\n",
       "      <td>Their investigation did not fix an error on yo...</td>\n",
       "      <td>Credit reporting, credit repair services, or o...</td>\n",
       "      <td>Credit reporting</td>\n",
       "    </tr>\n",
       "    <tr>\n",
       "      <th>3</th>\n",
       "      <td>3181575</td>\n",
       "      <td>XXXX, XXXX, and Transunion are not taking my c...</td>\n",
       "      <td>No</td>\n",
       "      <td>03/16/2019</td>\n",
       "      <td>26</td>\n",
       "      <td>253</td>\n",
       "      <td>TRANSUNION INTERMEDIATE HOLDINGS, INC.</td>\n",
       "      <td>Closed with explanation</td>\n",
       "      <td>Company has responded to the consumer and the ...</td>\n",
       "      <td>Yes</td>\n",
       "      <td>03/16/2019</td>\n",
       "      <td>Problem with a credit reporting company's inve...</td>\n",
       "      <td>Their investigation did not fix an error on yo...</td>\n",
       "      <td>Credit reporting, credit repair services, or o...</td>\n",
       "      <td>Credit reporting</td>\n",
       "    </tr>\n",
       "    <tr>\n",
       "      <th>4</th>\n",
       "      <td>3181191</td>\n",
       "      <td>Transunion, XXXX, and XXXX Dispute with all th...</td>\n",
       "      <td>No</td>\n",
       "      <td>03/15/2019</td>\n",
       "      <td>26</td>\n",
       "      <td>253</td>\n",
       "      <td>TRANSUNION INTERMEDIATE HOLDINGS, INC.</td>\n",
       "      <td>Closed with explanation</td>\n",
       "      <td>Company has responded to the consumer and the ...</td>\n",
       "      <td>Yes</td>\n",
       "      <td>03/15/2019</td>\n",
       "      <td>Problem with a credit reporting company's inve...</td>\n",
       "      <td>Their investigation did not fix an error on yo...</td>\n",
       "      <td>Credit reporting, credit repair services, or o...</td>\n",
       "      <td>Credit reporting</td>\n",
       "    </tr>\n",
       "  </tbody>\n",
       "</table>\n",
       "</div>"
      ],
      "text/plain": [
       "   COMPLAINT_ID                                     COMPLAINT_TEXT  \\\n",
       "0       3184195  XXXX  and Transunion are reporting incorrectly...   \n",
       "1       3184692  XXXX and Transunion are reporting incorrectly ...   \n",
       "2       3182430  3 company with inconsistencies, violations and...   \n",
       "3       3181575  XXXX, XXXX, and Transunion are not taking my c...   \n",
       "4       3181191  Transunion, XXXX, and XXXX Dispute with all th...   \n",
       "\n",
       "  WAS_USER_DISPUTED DATE_COMPLAINT_USER  PRODUCT_ID  ISSUE_ID  \\\n",
       "0                No          03/19/2019          26       253   \n",
       "1                No          03/19/2019          26       253   \n",
       "2                No          03/17/2019          26       253   \n",
       "3                No          03/16/2019          26       253   \n",
       "4                No          03/15/2019          26       253   \n",
       "\n",
       "                                  COMPANY COMPANY_RESPONSE_TO_USER  \\\n",
       "0  TRANSUNION INTERMEDIATE HOLDINGS, INC.  Closed with explanation   \n",
       "1  TRANSUNION INTERMEDIATE HOLDINGS, INC.  Closed with explanation   \n",
       "2         McCarthy, Burgess & Wolff, Inc.  Closed with explanation   \n",
       "3  TRANSUNION INTERMEDIATE HOLDINGS, INC.  Closed with explanation   \n",
       "4  TRANSUNION INTERMEDIATE HOLDINGS, INC.  Closed with explanation   \n",
       "\n",
       "                          COMPANY_RESPONSE_TO_PUBLIC WAS_RESPONSE_TIMELY  \\\n",
       "0  Company has responded to the consumer and the ...                 Yes   \n",
       "1  Company has responded to the consumer and the ...                 Yes   \n",
       "2  Company believes it acted appropriately as aut...                 Yes   \n",
       "3  Company has responded to the consumer and the ...                 Yes   \n",
       "4  Company has responded to the consumer and the ...                 Yes   \n",
       "\n",
       "  DATE_COMPLAINT_COMPANY                                         MAIN_ISSUE  \\\n",
       "0             03/19/2019  Problem with a credit reporting company's inve...   \n",
       "1             03/19/2019  Problem with a credit reporting company's inve...   \n",
       "2             03/17/2019  Problem with a credit reporting company's inve...   \n",
       "3             03/16/2019  Problem with a credit reporting company's inve...   \n",
       "4             03/15/2019  Problem with a credit reporting company's inve...   \n",
       "\n",
       "                                           SUB_ISSUE  \\\n",
       "0  Their investigation did not fix an error on yo...   \n",
       "1  Their investigation did not fix an error on yo...   \n",
       "2  Their investigation did not fix an error on yo...   \n",
       "3  Their investigation did not fix an error on yo...   \n",
       "4  Their investigation did not fix an error on yo...   \n",
       "\n",
       "                                        MAIN_PRODUCT       SUB_PRODUCT  \n",
       "0  Credit reporting, credit repair services, or o...  Credit reporting  \n",
       "1  Credit reporting, credit repair services, or o...  Credit reporting  \n",
       "2  Credit reporting, credit repair services, or o...  Credit reporting  \n",
       "3  Credit reporting, credit repair services, or o...  Credit reporting  \n",
       "4  Credit reporting, credit repair services, or o...  Credit reporting  "
      ]
     },
     "execution_count": 5,
     "metadata": {},
     "output_type": "execute_result"
    }
   ],
   "source": [
    "pdfJoinedFinal.head()"
   ]
  },
  {
   "cell_type": "code",
   "execution_count": 9,
   "metadata": {},
   "outputs": [
    {
     "data": {
      "text/plain": [
       "array(['XXXX  and Transunion are reporting incorrectly that I am 120 days past due on loans with the XXXX  - partial account numbers XXXX ; XXXX ; XXXX ; XXXX.. These accounts reflect a {$0.00} balance and a {$0.00} past due. I have contacted the two bureaus and requested these coding errors be corrected. This incorrect reporting is harming my credit score. It is  impossible to be past due on accounts that have a {$0.00} balance and {$0.00} past due.',\n",
       "       'XXXX and Transunion are reporting incorrectly that I am 120 days past due on a loan with the XXXX - partial account numberXXXX. This account reflects a {$0.00} balance and a {$0.00} past due. I have contacted the two bureaus and requested these coding errors be corrected. This incorrect reporting is harming my credit score. It is impossible to be past due on accounts that have a {$0.00} balance and {$0.00} past due.',\n",
       "       '3 company with inconsistencies, violations and double jeopardy ... \\nI requested to XXXX  an investigation for reporting \" past due balance \\'\\' and \" 1 month term \\'\\' in collection account from XXXX which represent a violation to FDCPA ... \\nThe answer from XXXX was a verification from XXXX as shown in their own report attached in this complaint.. \\nXXXX is confirming with XXXX the violation ... \\nI decide to call XXXX to obtain an explanation but the answer was they has been transfer or sold the account to MCCARTHY , BURGESS & WOLFF to collect the account .... \\nNow XXXX is reporting to XXXX an account that is not marked as sold of transfer with a Balance ... So, XXXX  is in violation of the FCRA by reporting inaccuarate information and failing to do a proper investogation.. \\nNow MCCARTHY, BURGESS & WOLFF is asking around 600 dollars over the original balance requested by XXXX at the same time is reporting another balance to XXXX ... \\nAccount XXXX XXXX Violation to FDCPA, Violation to FCRA and double jeopardy ... \\n\\nAttached proof of XXXX balance reported to XXXX   before and after investigation and a letter from MCCARTHY, BURGESS & WOLFF collecting another balance for the same account.',\n",
       "       ...,\n",
       "       'Took out a loan on XXXX XXXX 2016, in which I made monthly payments regularly. My first payment was 2 weeks late, after that, a payment was made by the XXXX of each month. XXXX, I contacted the XXXX EZ Pawn store, requesting information on my account, asking what are the guidelines, regarding when merchandise would be put in the case to sell. I asked the employee to check my acct, & if I could not make it in, if I needed to get there by XXXX, to make the XXXX payment. I was told, I have 60 days. I had sent someone else in 3 times prior to make a monthly payment, she was asked, \" Do you have a driver \\'s license? \\'\\' She said no, can I confirm the dollar amount, to bring the account current? She was told, we need your id. She left due to not having the ID. On XXXX XXXX, I then went to the store, driving 2 hours to take care of the payment myself. When I got there, I told the girl I was making my payment & wanted to know the payoff Balance. She started stammering and said, ughhhh, we recently went to a 30 day loan, that they were verbally telling people, that she could not take my payment. I said I want to speak to your manager, you ca n\\'t change a policy on a loan verbally, and not inform the consumer in writing. I was paying {$30.00}, for the monthly interest, which would put me at 30 days. The Manager reinforced, this is the new way we are changing over to, that I needed to pay 3 months worth of interest, and I noticed my merchandise, was already sitting in their display case to sell, for another to purchase! I said, I have {$30.00}, take my XXXX worth of merchandise, you gave me a {$140.00} loan for, out of your case, this payment would of been made last month, had your employee not told me, I did not have to make a payment for 60 days. There is no way to see this data, via computer, make a payment by Web, and they only accept cash payments, is what I was told prior. I could not make a payment via phone, can only come to the store. I upset as ever, mentioned why would I have to pay for 3 months in order for him to get my merchandise out of the case, being one month behind, due to their mis informed guidance ... and he mumbled, we \\'ll 2 months. I again told him here is my monthly {$30.00} interest payment, he said I ca n\\'t take it. I \\'m furious at this fraudulent practice, my merchandise should not have been in the case for purchase! \\nI left the store stating I was taking this to the attorney general! I then wrote a long email to their customer service department, on XXXX XXXX. I stated I required a phone call by XXXX, or I was getting an attorney involved, due to fraudulent operations. I got a phone call from a XXXX XXXX, who was so mean leaving a message, I had to register to message 10 times to make out the number to contact. 3 calls from a XXXX, which everytI me, left a temporary number at one of the stores he was visiting for a couple hours. I work a 50 work week. I can only call after I \\'m done working, never being able to reach this manager. Just keep calling managers at XXXX different stores, with no help, but to email this XXXX. Yesterday, I took it a step further, contacting their parent company with the same forwarding email, to the EZCORP financial investors, president, I have heard nothing back from. I then after work today contacted the last store number he gave me complaining to that store manager, how can you do business this way. It \\'s 12 days later, my merchandise is probably sold by now, & I \\'m livid at the thought. There was no XXXX mail reminder nor have I ever gotten a call regarding my merchandise. I would not be contacting the store and making monthly regular payments, If my intention were to not keep my Diamond, XXXX, yg pendant, w/ yg. Please help me, Thank You in advance, Sincerely, XXXX XXXX',\n",
       "       \"The original loan was for a motorcycle in which, I co-signed for my daughter 's then college boyfriend who we felt needed some help. The bank has now changed several names and different ownership. National City Bank is no longer and back in the XXXX 's not much done electronically, I had a payment booklet and the loan was paid off. At the time I never received a former letter or the title to motorcycle since the bank became defunct. Therefore this new company XXXX XXXX XXXX XXXX XXXX, XXXX XXXX XXXX, XXXX XXXX, IL XXXX, XXXX bought these defunct pay loans for pennies on the dollar trying to collect on bad/ written off or closed loans. I was contacted in XXXX 2015 stating I owed thousands of dollars from this company. Needless to say I was strong armed into thinking I did and I agreed to much lower amount and paid them {$800.00}! I made XXXX payment of {$200.00} dollars each via check. I have filed a local police report with my local police department and in process XXXX, where I live, XXXX, and then I am doing the same process in the state XXXX where this company is located. Therefore once they received the last payment I was promised my title and end of loan paperwork. When called again the person is conveniently unavailable and when called by the police he was hung up on as well. I will be uploading my paperwork as requested from this so called company.\",\n",
       "       \"This formal complaint is due to a various trend of data breech issues that includes myself personally and other customers of Cash America. Cash America has failed to protect the privacy of their consumer 's personal data by neglecting to remove pertinent information from electronic devices in their care and by not doing so they have put me and the entire general public who conduct business with them at risk of identity theft and ongoing data breeches in more than several areas. This currently include but are not limited to SSN, birth-dates, personal emails, credit card information, computer login passwords, traceable cookies on all electronic, devices, banking information, direct access, to personal application such as XXXX and XXXX.\"],\n",
       "      dtype=object)"
      ]
     },
     "execution_count": 9,
     "metadata": {},
     "output_type": "execute_result"
    }
   ],
   "source": [
    "pdfJoinedFinal['COMPLAINT_TEXT'].values"
   ]
  },
  {
   "cell_type": "code",
   "execution_count": 7,
   "metadata": {},
   "outputs": [
    {
     "data": {
      "text/plain": [
       "Index(['COMPLAINT_ID', 'COMPLAINT_TEXT', 'WAS_USER_DISPUTED',\n",
       "       'DATE_COMPLAINT_USER', 'PRODUCT_ID', 'ISSUE_ID', 'COMPANY',\n",
       "       'COMPANY_RESPONSE_TO_USER', 'COMPANY_RESPONSE_TO_PUBLIC',\n",
       "       'WAS_RESPONSE_TIMELY', 'DATE_COMPLAINT_COMPANY', 'MAIN_ISSUE',\n",
       "       'SUB_ISSUE', 'MAIN_PRODUCT', 'SUB_PRODUCT'],\n",
       "      dtype='object')"
      ]
     },
     "execution_count": 7,
     "metadata": {},
     "output_type": "execute_result"
    }
   ],
   "source": [
    "pdfJoinedFinal.columns"
   ]
  },
  {
   "cell_type": "code",
   "execution_count": 10,
   "metadata": {},
   "outputs": [
    {
     "data": {
      "text/plain": [
       "{'Bank account or service',\n",
       " 'Checking or savings account',\n",
       " 'Consumer Loan',\n",
       " 'Credit card',\n",
       " 'Credit card or prepaid card',\n",
       " 'Credit reporting',\n",
       " 'Credit reporting, credit repair services, or other personal consumer reports',\n",
       " 'Debt collection',\n",
       " 'Money transfer, virtual currency, or money service',\n",
       " 'Money transfers',\n",
       " 'Mortgage',\n",
       " 'Other financial service',\n",
       " 'Payday loan',\n",
       " 'Payday loan, title loan, or personal loan',\n",
       " 'Prepaid card',\n",
       " 'Student loan',\n",
       " 'Vehicle loan or lease',\n",
       " 'Virtual currency'}"
      ]
     },
     "execution_count": 10,
     "metadata": {},
     "output_type": "execute_result"
    }
   ],
   "source": [
    "set(pdfJoinedFinal['MAIN_PRODUCT'].values)"
   ]
  },
  {
   "cell_type": "code",
   "execution_count": 11,
   "metadata": {},
   "outputs": [
    {
     "data": {
      "text/plain": [
       "COMPLAINT_ID                  383066\n",
       "COMPLAINT_TEXT                383066\n",
       "WAS_USER_DISPUTED             383066\n",
       "DATE_COMPLAINT_USER           383066\n",
       "PRODUCT_ID                    383066\n",
       "ISSUE_ID                      383066\n",
       "COMPANY                       383066\n",
       "COMPANY_RESPONSE_TO_USER      383066\n",
       "COMPANY_RESPONSE_TO_PUBLIC    383066\n",
       "WAS_RESPONSE_TIMELY           383066\n",
       "DATE_COMPLAINT_COMPANY        383066\n",
       "MAIN_ISSUE                    383066\n",
       "SUB_ISSUE                     383066\n",
       "MAIN_PRODUCT                  383066\n",
       "SUB_PRODUCT                   330893\n",
       "dtype: int64"
      ]
     },
     "execution_count": 11,
     "metadata": {},
     "output_type": "execute_result"
    }
   ],
   "source": [
    "pdfJoinedFinal.count()"
   ]
  },
  {
   "cell_type": "code",
   "execution_count": 12,
   "metadata": {},
   "outputs": [],
   "source": [
    "pdfJoinedFinalDropped = pdfJoinedFinal.dropna().drop_duplicates()"
   ]
  },
  {
   "cell_type": "code",
   "execution_count": null,
   "metadata": {},
   "outputs": [],
   "source": []
  },
  {
   "cell_type": "markdown",
   "metadata": {},
   "source": [
    "# Data Pre Processing"
   ]
  },
  {
   "cell_type": "code",
   "execution_count": 19,
   "metadata": {},
   "outputs": [],
   "source": [
    "\n",
    "def readDataPandas(df): \n",
    "\n",
    "    print(\"length of data frame:\" + str(len(df)))\n",
    "    dataX=[]\n",
    "    dataY=[]\n",
    "    for i in range(0,len(df)):\n",
    "        dataY.append(df.MAIN_PRODUCT[i])\n",
    "        dataX.append(getfeaturesPandas(df,i))\n",
    "        if i!=0 and i%10000 == 0:\n",
    "            print('Read 10000 records')\n",
    "    return dataX,dataY"
   ]
  },
  {
   "cell_type": "code",
   "execution_count": 20,
   "metadata": {},
   "outputs": [],
   "source": [
    "from datetime import datetime\n",
    "\n",
    "def days_between(d1, d2):\n",
    "    d1 = datetime.strptime(d1, \"%m/%d/%Y\")\n",
    "    d2 = datetime.strptime(d2, \"%m/%d/%Y\")\n",
    "    return abs((d2 - d1).days)\n",
    "\n",
    "# Tokenization Lemmatization and stop Words Removal\n",
    "lemmatizer = WordNetLemmatizer() \n",
    "def getNormalizedSentence(sentence):\n",
    "    # Tokenize\n",
    "    words = nltk.word_tokenize(sentence)\n",
    "    newwords = []\n",
    "    #Lemmatize\n",
    "    for word in words:\n",
    "        newwords.append(lemmatizer.lemmatize(word))\n",
    "        \n",
    "    # Remove STop Words\n",
    "    stop_words = set(stopwords.words('english'))\n",
    "    afterStopWordsRemoval =[]\n",
    "    for w in newwords:\n",
    "        if w not in stop_words:\n",
    "            afterStopWordsRemoval.append(w)\n",
    "            \n",
    "            \n",
    "    return ' '.join(afterStopWordsRemoval)"
   ]
  },
  {
   "cell_type": "markdown",
   "metadata": {},
   "source": [
    "# FEATURES"
   ]
  },
  {
   "cell_type": "code",
   "execution_count": 21,
   "metadata": {},
   "outputs": [],
   "source": [
    "def getfeaturesPandas(df,i):\n",
    "  \n",
    "    featureVals = featuresPandas(df,i)\n",
    "    featureArray=[]\n",
    "    featureArray.append(featureVals['COMPLAINT_TEXT'])\n",
    "    featureArray.append(featureVals['WAS_USER_DISPUTED'])\n",
    "    featureArray.append(featureVals['DATE_COMPLAINT_USER'])\n",
    "    featureArray.append(featureVals['COMPANY'])\n",
    "    featureArray.append(featureVals['COMPANY_RESPONSE_TO_USER'])\n",
    "    featureArray.append(featureVals['COMPANY_RESPONSE_TO_PUBLIC'])\n",
    "    featureArray.append(featureVals['WAS_RESPONSE_TIMELY'])\n",
    "    featureArray.append(featureVals['DATE_COMPLAINT_COMPANY'])\n",
    "    featureArray.append(featureVals['MAIN_ISSUE'])\n",
    "    featureArray.append(featureVals['SUB_ISSUE'])\n",
    "    featureArray.append(featureVals['DIFF_DATE'])\n",
    "    featureArray.append(featureVals['YEAR'])\n",
    "    featureArray.append(featureVals['MONTH'])\n",
    "    featureArray.append(featureVals['DAY'])\n",
    "    \n",
    "                    \n",
    "    return featureArray"
   ]
  },
  {
   "cell_type": "code",
   "execution_count": 22,
   "metadata": {},
   "outputs": [],
   "source": [
    "from nltk.corpus import stopwords \n",
    "from nltk.tokenize import word_tokenize"
   ]
  },
  {
   "cell_type": "code",
   "execution_count": 23,
   "metadata": {},
   "outputs": [],
   "source": [
    "def featuresPandas(df,i): #feature encoder\n",
    "    return {\n",
    "\n",
    "        'COMPLAINT_TEXT' : getNormalizedSentence(df.COMPLAINT_TEXT[i]),\n",
    "        'WAS_USER_DISPUTED' : 1 if df.WAS_USER_DISPUTED[i] == 'Yes' else 0,\n",
    "        'DATE_COMPLAINT_USER' : df.DATE_COMPLAINT_USER[i],\n",
    "        'COMPANY' : df.COMPANY[i],\n",
    "        'COMPANY_RESPONSE_TO_USER' : getNormalizedSentence(df.COMPANY_RESPONSE_TO_USER[i]),\n",
    "        'COMPANY_RESPONSE_TO_PUBLIC' : getNormalizedSentence(df.COMPANY_RESPONSE_TO_PUBLIC[i]),\n",
    "        'WAS_RESPONSE_TIMELY' : 1 if df.WAS_RESPONSE_TIMELY[i] == 'Yes' else 0,\n",
    "        'DATE_COMPLAINT_COMPANY' : df.DATE_COMPLAINT_COMPANY[i],\n",
    "        'MAIN_ISSUE' : getNormalizedSentence(df.MAIN_ISSUE[i]),\n",
    "        'SUB_ISSUE' : getNormalizedSentence(df.SUB_ISSUE[i]), \n",
    "        'DIFF_DATE' : days_between (df.DATE_COMPLAINT_USER[i],df.DATE_COMPLAINT_COMPANY[i]),\n",
    "        'YEAR' :  datetime.strptime(df.DATE_COMPLAINT_USER[i], \"%m/%d/%Y\").year , \n",
    "        'MONTH' : datetime.strptime(df.DATE_COMPLAINT_USER[i], \"%m/%d/%Y\").month ,\n",
    "        'DAY': datetime.strptime(df.DATE_COMPLAINT_USER[i], \"%m/%d/%Y\").day \n",
    "            }"
   ]
  },
  {
   "cell_type": "code",
   "execution_count": 24,
   "metadata": {},
   "outputs": [],
   "source": [
    "# READ DATA\n",
    "df = pd.read_csv('joineddata.csv')\n"
   ]
  },
  {
   "cell_type": "code",
   "execution_count": 25,
   "metadata": {},
   "outputs": [],
   "source": [
    "df = df[:1000]"
   ]
  },
  {
   "cell_type": "code",
   "execution_count": 26,
   "metadata": {},
   "outputs": [
    {
     "name": "stdout",
     "output_type": "stream",
     "text": [
      "length of data frame:1000\n"
     ]
    }
   ],
   "source": [
    "\n",
    "dataX, dataY=readDataPandas(df)\n",
    "n_samples=len(dataX)\n"
   ]
  },
  {
   "cell_type": "code",
   "execution_count": 29,
   "metadata": {},
   "outputs": [
    {
     "data": {
      "text/plain": [
       "1000"
      ]
     },
     "execution_count": 29,
     "metadata": {},
     "output_type": "execute_result"
    }
   ],
   "source": [
    "len(dataX)"
   ]
  },
  {
   "cell_type": "code",
   "execution_count": 30,
   "metadata": {},
   "outputs": [
    {
     "data": {
      "text/plain": [
       "['XXXX Transunion reporting incorrectly I 120 day past due loan XXXX - partial account number XXXX ; XXXX ; XXXX ; XXXX .. These account reflect { $ 0.00 } balance { $ 0.00 } past due . I contacted two bureau requested coding error corrected . This incorrect reporting harming credit score . It impossible past due account { $ 0.00 } balance { $ 0.00 } past due .',\n",
       " 0,\n",
       " '03/19/2019',\n",
       " 'TRANSUNION INTERMEDIATE HOLDINGS, INC.',\n",
       " 'Closed explanation',\n",
       " 'Company ha responded consumer CFPB chooses provide public response',\n",
       " 1,\n",
       " '03/19/2019',\n",
       " \"Problem credit reporting company 's investigation existing problem\",\n",
       " 'Their investigation fix error report',\n",
       " 0,\n",
       " 2019,\n",
       " 3,\n",
       " 19]"
      ]
     },
     "execution_count": 30,
     "metadata": {},
     "output_type": "execute_result"
    }
   ],
   "source": [
    "dataX[0]"
   ]
  },
  {
   "cell_type": "code",
   "execution_count": 31,
   "metadata": {},
   "outputs": [],
   "source": [
    "\n",
    "\n",
    "cols = [ 'COMPLAINT_TEXT' , 'WAS_USER_DISPUTED' , 'DATE_COMPLAINT_USER' , 'COMPANY' ,'COMPANY_RESPONSE_TO_USER' , 'COMPANY_RESPONSE_TO_PUBLIC', 'WAS_RESPONSE_TIMELY' ,'DATE_COMPLAINT_COMPANY' , 'MAIN_ISSUE' , 'SUB_ISSUE' ,'DIFF_DATE' ,'YEAR' , 'MONTH' , 'DAY']"
   ]
  },
  {
   "cell_type": "code",
   "execution_count": 32,
   "metadata": {},
   "outputs": [
    {
     "data": {
      "text/plain": [
       "14"
      ]
     },
     "execution_count": 32,
     "metadata": {},
     "output_type": "execute_result"
    }
   ],
   "source": [
    "len(cols)"
   ]
  },
  {
   "cell_type": "code",
   "execution_count": 33,
   "metadata": {},
   "outputs": [],
   "source": [
    "pdfProcessed = pd.DataFrame(dataX , columns=cols)"
   ]
  },
  {
   "cell_type": "code",
   "execution_count": 37,
   "metadata": {},
   "outputs": [
    {
     "data": {
      "text/html": [
       "<div>\n",
       "<style scoped>\n",
       "    .dataframe tbody tr th:only-of-type {\n",
       "        vertical-align: middle;\n",
       "    }\n",
       "\n",
       "    .dataframe tbody tr th {\n",
       "        vertical-align: top;\n",
       "    }\n",
       "\n",
       "    .dataframe thead th {\n",
       "        text-align: right;\n",
       "    }\n",
       "</style>\n",
       "<table border=\"1\" class=\"dataframe\">\n",
       "  <thead>\n",
       "    <tr style=\"text-align: right;\">\n",
       "      <th></th>\n",
       "      <th>COMPLAINT_TEXT</th>\n",
       "      <th>WAS_USER_DISPUTED</th>\n",
       "      <th>DATE_COMPLAINT_USER</th>\n",
       "      <th>COMPANY</th>\n",
       "      <th>COMPANY_RESPONSE_TO_USER</th>\n",
       "      <th>COMPANY_RESPONSE_TO_PUBLIC</th>\n",
       "      <th>WAS_RESPONSE_TIMELY</th>\n",
       "      <th>DATE_COMPLAINT_COMPANY</th>\n",
       "      <th>MAIN_ISSUE</th>\n",
       "      <th>SUB_ISSUE</th>\n",
       "      <th>DIFF_DATE</th>\n",
       "      <th>YEAR</th>\n",
       "      <th>MONTH</th>\n",
       "      <th>DAY</th>\n",
       "    </tr>\n",
       "  </thead>\n",
       "  <tbody>\n",
       "    <tr>\n",
       "      <th>0</th>\n",
       "      <td>XXXX Transunion reporting incorrectly I 120 da...</td>\n",
       "      <td>0</td>\n",
       "      <td>03/19/2019</td>\n",
       "      <td>TRANSUNION INTERMEDIATE HOLDINGS, INC.</td>\n",
       "      <td>Closed explanation</td>\n",
       "      <td>Company ha responded consumer CFPB chooses pro...</td>\n",
       "      <td>1</td>\n",
       "      <td>03/19/2019</td>\n",
       "      <td>Problem credit reporting company 's investigat...</td>\n",
       "      <td>Their investigation fix error report</td>\n",
       "      <td>0</td>\n",
       "      <td>2019</td>\n",
       "      <td>3</td>\n",
       "      <td>19</td>\n",
       "    </tr>\n",
       "    <tr>\n",
       "      <th>1</th>\n",
       "      <td>XXXX Transunion reporting incorrectly I 120 da...</td>\n",
       "      <td>0</td>\n",
       "      <td>03/19/2019</td>\n",
       "      <td>TRANSUNION INTERMEDIATE HOLDINGS, INC.</td>\n",
       "      <td>Closed explanation</td>\n",
       "      <td>Company ha responded consumer CFPB chooses pro...</td>\n",
       "      <td>1</td>\n",
       "      <td>03/19/2019</td>\n",
       "      <td>Problem credit reporting company 's investigat...</td>\n",
       "      <td>Their investigation fix error report</td>\n",
       "      <td>0</td>\n",
       "      <td>2019</td>\n",
       "      <td>3</td>\n",
       "      <td>19</td>\n",
       "    </tr>\n",
       "  </tbody>\n",
       "</table>\n",
       "</div>"
      ],
      "text/plain": [
       "                                      COMPLAINT_TEXT  WAS_USER_DISPUTED  \\\n",
       "0  XXXX Transunion reporting incorrectly I 120 da...                  0   \n",
       "1  XXXX Transunion reporting incorrectly I 120 da...                  0   \n",
       "\n",
       "  DATE_COMPLAINT_USER                                 COMPANY  \\\n",
       "0          03/19/2019  TRANSUNION INTERMEDIATE HOLDINGS, INC.   \n",
       "1          03/19/2019  TRANSUNION INTERMEDIATE HOLDINGS, INC.   \n",
       "\n",
       "  COMPANY_RESPONSE_TO_USER                         COMPANY_RESPONSE_TO_PUBLIC  \\\n",
       "0       Closed explanation  Company ha responded consumer CFPB chooses pro...   \n",
       "1       Closed explanation  Company ha responded consumer CFPB chooses pro...   \n",
       "\n",
       "   WAS_RESPONSE_TIMELY DATE_COMPLAINT_COMPANY  \\\n",
       "0                    1             03/19/2019   \n",
       "1                    1             03/19/2019   \n",
       "\n",
       "                                          MAIN_ISSUE  \\\n",
       "0  Problem credit reporting company 's investigat...   \n",
       "1  Problem credit reporting company 's investigat...   \n",
       "\n",
       "                              SUB_ISSUE  DIFF_DATE  YEAR  MONTH  DAY  \n",
       "0  Their investigation fix error report          0  2019      3   19  \n",
       "1  Their investigation fix error report          0  2019      3   19  "
      ]
     },
     "execution_count": 37,
     "metadata": {},
     "output_type": "execute_result"
    }
   ],
   "source": [
    "pdfProcessed.head(2)"
   ]
  },
  {
   "cell_type": "code",
   "execution_count": 38,
   "metadata": {},
   "outputs": [],
   "source": [
    "pdfProcessed.to_csv('pdf_processed_data.csv')"
   ]
  },
  {
   "cell_type": "code",
   "execution_count": null,
   "metadata": {},
   "outputs": [],
   "source": [
    "# Read Data "
   ]
  },
  {
   "cell_type": "code",
   "execution_count": 39,
   "metadata": {},
   "outputs": [],
   "source": [
    "pdfProcessed = pd.read_csv('pdf_processed_data.csv')"
   ]
  },
  {
   "cell_type": "code",
   "execution_count": 34,
   "metadata": {},
   "outputs": [],
   "source": [
    "pdfProcessed  = pdfProcessed.fillna('')"
   ]
  },
  {
   "cell_type": "code",
   "execution_count": 35,
   "metadata": {},
   "outputs": [
    {
     "data": {
      "text/plain": [
       "COMPLAINT_TEXT                1000\n",
       "WAS_USER_DISPUTED             1000\n",
       "DATE_COMPLAINT_USER           1000\n",
       "COMPANY                       1000\n",
       "COMPANY_RESPONSE_TO_USER      1000\n",
       "COMPANY_RESPONSE_TO_PUBLIC    1000\n",
       "WAS_RESPONSE_TIMELY           1000\n",
       "DATE_COMPLAINT_COMPANY        1000\n",
       "MAIN_ISSUE                    1000\n",
       "SUB_ISSUE                     1000\n",
       "DIFF_DATE                     1000\n",
       "YEAR                          1000\n",
       "MONTH                         1000\n",
       "DAY                           1000\n",
       "dtype: int64"
      ]
     },
     "execution_count": 35,
     "metadata": {},
     "output_type": "execute_result"
    }
   ],
   "source": [
    "pdfProcessed.count()"
   ]
  },
  {
   "cell_type": "markdown",
   "metadata": {},
   "source": [
    "# TFIDF Vectorize the COMPLAINT_TEXT"
   ]
  },
  {
   "cell_type": "code",
   "execution_count": 36,
   "metadata": {},
   "outputs": [],
   "source": [
    "from sklearn.feature_extraction.text import TfidfVectorizer\n",
    "v = TfidfVectorizer( min_df=5, norm='l2', stop_words='english', max_features=1000, lowercase=True)\n",
    "complaintfeatures = v.fit_transform(pdfProcessed['COMPLAINT_TEXT']).toarray()\n",
    "\n"
   ]
  },
  {
   "cell_type": "code",
   "execution_count": 37,
   "metadata": {},
   "outputs": [
    {
     "data": {
      "text/plain": [
       "'XXXX Transunion reporting incorrectly I 120 day past due loan XXXX - partial account number XXXX ; XXXX ; XXXX ; XXXX .. These account reflect { $ 0.00 } balance { $ 0.00 } past due . I contacted two bureau requested coding error corrected . This incorrect reporting harming credit score . It impossible past due account { $ 0.00 } balance { $ 0.00 } past due .'"
      ]
     },
     "execution_count": 37,
     "metadata": {},
     "output_type": "execute_result"
    }
   ],
   "source": [
    "pdfProcessed['COMPLAINT_TEXT'][0]"
   ]
  },
  {
   "cell_type": "code",
   "execution_count": 44,
   "metadata": {},
   "outputs": [],
   "source": [
    "# Dave tfidf vectorizer\n",
    "with open('tfidfvectorizer.pkl', 'wb') as fid:\n",
    "    pickle.dump(v, fid)\n"
   ]
  },
  {
   "cell_type": "code",
   "execution_count": 45,
   "metadata": {},
   "outputs": [
    {
     "data": {
      "text/plain": [
       "(383066, 1000)"
      ]
     },
     "execution_count": 45,
     "metadata": {},
     "output_type": "execute_result"
    }
   ],
   "source": [
    "complaintfeatures.shape"
   ]
  },
  {
   "cell_type": "code",
   "execution_count": 46,
   "metadata": {},
   "outputs": [],
   "source": [
    "complaintfeaturesPd = pd.DataFrame(complaintfeatures)"
   ]
  },
  {
   "cell_type": "code",
   "execution_count": 47,
   "metadata": {},
   "outputs": [
    {
     "data": {
      "text/html": [
       "<div>\n",
       "<style scoped>\n",
       "    .dataframe tbody tr th:only-of-type {\n",
       "        vertical-align: middle;\n",
       "    }\n",
       "\n",
       "    .dataframe tbody tr th {\n",
       "        vertical-align: top;\n",
       "    }\n",
       "\n",
       "    .dataframe thead th {\n",
       "        text-align: right;\n",
       "    }\n",
       "</style>\n",
       "<table border=\"1\" class=\"dataframe\">\n",
       "  <thead>\n",
       "    <tr style=\"text-align: right;\">\n",
       "      <th></th>\n",
       "      <th>0</th>\n",
       "      <th>1</th>\n",
       "      <th>2</th>\n",
       "      <th>3</th>\n",
       "      <th>4</th>\n",
       "      <th>5</th>\n",
       "      <th>6</th>\n",
       "      <th>7</th>\n",
       "      <th>8</th>\n",
       "      <th>9</th>\n",
       "      <th>...</th>\n",
       "      <th>990</th>\n",
       "      <th>991</th>\n",
       "      <th>992</th>\n",
       "      <th>993</th>\n",
       "      <th>994</th>\n",
       "      <th>995</th>\n",
       "      <th>996</th>\n",
       "      <th>997</th>\n",
       "      <th>998</th>\n",
       "      <th>999</th>\n",
       "    </tr>\n",
       "  </thead>\n",
       "  <tbody>\n",
       "    <tr>\n",
       "      <th>0</th>\n",
       "      <td>0.337695</td>\n",
       "      <td>0.0</td>\n",
       "      <td>0.0</td>\n",
       "      <td>0.0</td>\n",
       "      <td>0.0</td>\n",
       "      <td>0.209146</td>\n",
       "      <td>0.000000</td>\n",
       "      <td>0.0</td>\n",
       "      <td>0.0</td>\n",
       "      <td>0.0</td>\n",
       "      <td>...</td>\n",
       "      <td>0.0</td>\n",
       "      <td>0.0</td>\n",
       "      <td>0.0</td>\n",
       "      <td>0.0</td>\n",
       "      <td>0.000000</td>\n",
       "      <td>0.276358</td>\n",
       "      <td>0.0</td>\n",
       "      <td>0.000000</td>\n",
       "      <td>0.0</td>\n",
       "      <td>0.0</td>\n",
       "    </tr>\n",
       "    <tr>\n",
       "      <th>1</th>\n",
       "      <td>0.360271</td>\n",
       "      <td>0.0</td>\n",
       "      <td>0.0</td>\n",
       "      <td>0.0</td>\n",
       "      <td>0.0</td>\n",
       "      <td>0.223129</td>\n",
       "      <td>0.000000</td>\n",
       "      <td>0.0</td>\n",
       "      <td>0.0</td>\n",
       "      <td>0.0</td>\n",
       "      <td>...</td>\n",
       "      <td>0.0</td>\n",
       "      <td>0.0</td>\n",
       "      <td>0.0</td>\n",
       "      <td>0.0</td>\n",
       "      <td>0.000000</td>\n",
       "      <td>0.098278</td>\n",
       "      <td>0.0</td>\n",
       "      <td>0.000000</td>\n",
       "      <td>0.0</td>\n",
       "      <td>0.0</td>\n",
       "    </tr>\n",
       "    <tr>\n",
       "      <th>2</th>\n",
       "      <td>0.000000</td>\n",
       "      <td>0.0</td>\n",
       "      <td>0.0</td>\n",
       "      <td>0.0</td>\n",
       "      <td>0.0</td>\n",
       "      <td>0.000000</td>\n",
       "      <td>0.000000</td>\n",
       "      <td>0.0</td>\n",
       "      <td>0.0</td>\n",
       "      <td>0.0</td>\n",
       "      <td>...</td>\n",
       "      <td>0.0</td>\n",
       "      <td>0.0</td>\n",
       "      <td>0.0</td>\n",
       "      <td>0.0</td>\n",
       "      <td>0.000000</td>\n",
       "      <td>0.385496</td>\n",
       "      <td>0.0</td>\n",
       "      <td>0.000000</td>\n",
       "      <td>0.0</td>\n",
       "      <td>0.0</td>\n",
       "    </tr>\n",
       "    <tr>\n",
       "      <th>3</th>\n",
       "      <td>0.000000</td>\n",
       "      <td>0.0</td>\n",
       "      <td>0.0</td>\n",
       "      <td>0.0</td>\n",
       "      <td>0.0</td>\n",
       "      <td>0.000000</td>\n",
       "      <td>0.000000</td>\n",
       "      <td>0.0</td>\n",
       "      <td>0.0</td>\n",
       "      <td>0.0</td>\n",
       "      <td>...</td>\n",
       "      <td>0.0</td>\n",
       "      <td>0.0</td>\n",
       "      <td>0.0</td>\n",
       "      <td>0.0</td>\n",
       "      <td>0.000000</td>\n",
       "      <td>0.142196</td>\n",
       "      <td>0.0</td>\n",
       "      <td>0.000000</td>\n",
       "      <td>0.0</td>\n",
       "      <td>0.0</td>\n",
       "    </tr>\n",
       "    <tr>\n",
       "      <th>4</th>\n",
       "      <td>0.000000</td>\n",
       "      <td>0.0</td>\n",
       "      <td>0.0</td>\n",
       "      <td>0.0</td>\n",
       "      <td>0.0</td>\n",
       "      <td>0.000000</td>\n",
       "      <td>0.000000</td>\n",
       "      <td>0.0</td>\n",
       "      <td>0.0</td>\n",
       "      <td>0.0</td>\n",
       "      <td>...</td>\n",
       "      <td>0.0</td>\n",
       "      <td>0.0</td>\n",
       "      <td>0.0</td>\n",
       "      <td>0.0</td>\n",
       "      <td>0.000000</td>\n",
       "      <td>0.464054</td>\n",
       "      <td>0.0</td>\n",
       "      <td>0.000000</td>\n",
       "      <td>0.0</td>\n",
       "      <td>0.0</td>\n",
       "    </tr>\n",
       "    <tr>\n",
       "      <th>5</th>\n",
       "      <td>0.383360</td>\n",
       "      <td>0.0</td>\n",
       "      <td>0.0</td>\n",
       "      <td>0.0</td>\n",
       "      <td>0.0</td>\n",
       "      <td>0.474857</td>\n",
       "      <td>0.000000</td>\n",
       "      <td>0.0</td>\n",
       "      <td>0.0</td>\n",
       "      <td>0.0</td>\n",
       "      <td>...</td>\n",
       "      <td>0.0</td>\n",
       "      <td>0.0</td>\n",
       "      <td>0.0</td>\n",
       "      <td>0.0</td>\n",
       "      <td>0.000000</td>\n",
       "      <td>0.104576</td>\n",
       "      <td>0.0</td>\n",
       "      <td>0.000000</td>\n",
       "      <td>0.0</td>\n",
       "      <td>0.0</td>\n",
       "    </tr>\n",
       "    <tr>\n",
       "      <th>6</th>\n",
       "      <td>0.166653</td>\n",
       "      <td>0.0</td>\n",
       "      <td>0.0</td>\n",
       "      <td>0.0</td>\n",
       "      <td>0.0</td>\n",
       "      <td>0.000000</td>\n",
       "      <td>0.000000</td>\n",
       "      <td>0.0</td>\n",
       "      <td>0.0</td>\n",
       "      <td>0.0</td>\n",
       "      <td>...</td>\n",
       "      <td>0.0</td>\n",
       "      <td>0.0</td>\n",
       "      <td>0.0</td>\n",
       "      <td>0.0</td>\n",
       "      <td>0.425157</td>\n",
       "      <td>0.530378</td>\n",
       "      <td>0.0</td>\n",
       "      <td>0.032655</td>\n",
       "      <td>0.0</td>\n",
       "      <td>0.0</td>\n",
       "    </tr>\n",
       "    <tr>\n",
       "      <th>7</th>\n",
       "      <td>0.395517</td>\n",
       "      <td>0.0</td>\n",
       "      <td>0.0</td>\n",
       "      <td>0.0</td>\n",
       "      <td>0.0</td>\n",
       "      <td>0.000000</td>\n",
       "      <td>0.000000</td>\n",
       "      <td>0.0</td>\n",
       "      <td>0.0</td>\n",
       "      <td>0.0</td>\n",
       "      <td>...</td>\n",
       "      <td>0.0</td>\n",
       "      <td>0.0</td>\n",
       "      <td>0.0</td>\n",
       "      <td>0.0</td>\n",
       "      <td>0.000000</td>\n",
       "      <td>0.215785</td>\n",
       "      <td>0.0</td>\n",
       "      <td>0.000000</td>\n",
       "      <td>0.0</td>\n",
       "      <td>0.0</td>\n",
       "    </tr>\n",
       "    <tr>\n",
       "      <th>8</th>\n",
       "      <td>0.000000</td>\n",
       "      <td>0.0</td>\n",
       "      <td>0.0</td>\n",
       "      <td>0.0</td>\n",
       "      <td>0.0</td>\n",
       "      <td>0.000000</td>\n",
       "      <td>0.210917</td>\n",
       "      <td>0.0</td>\n",
       "      <td>0.0</td>\n",
       "      <td>0.0</td>\n",
       "      <td>...</td>\n",
       "      <td>0.0</td>\n",
       "      <td>0.0</td>\n",
       "      <td>0.0</td>\n",
       "      <td>0.0</td>\n",
       "      <td>0.000000</td>\n",
       "      <td>0.120016</td>\n",
       "      <td>0.0</td>\n",
       "      <td>0.000000</td>\n",
       "      <td>0.0</td>\n",
       "      <td>0.0</td>\n",
       "    </tr>\n",
       "    <tr>\n",
       "      <th>9</th>\n",
       "      <td>0.000000</td>\n",
       "      <td>0.0</td>\n",
       "      <td>0.0</td>\n",
       "      <td>0.0</td>\n",
       "      <td>0.0</td>\n",
       "      <td>0.000000</td>\n",
       "      <td>0.000000</td>\n",
       "      <td>0.0</td>\n",
       "      <td>0.0</td>\n",
       "      <td>0.0</td>\n",
       "      <td>...</td>\n",
       "      <td>0.0</td>\n",
       "      <td>0.0</td>\n",
       "      <td>0.0</td>\n",
       "      <td>0.0</td>\n",
       "      <td>0.195867</td>\n",
       "      <td>0.111699</td>\n",
       "      <td>0.0</td>\n",
       "      <td>0.000000</td>\n",
       "      <td>0.0</td>\n",
       "      <td>0.0</td>\n",
       "    </tr>\n",
       "  </tbody>\n",
       "</table>\n",
       "<p>10 rows × 1000 columns</p>\n",
       "</div>"
      ],
      "text/plain": [
       "        0    1    2    3    4         5         6    7    8    9    ...  990  \\\n",
       "0  0.337695  0.0  0.0  0.0  0.0  0.209146  0.000000  0.0  0.0  0.0  ...  0.0   \n",
       "1  0.360271  0.0  0.0  0.0  0.0  0.223129  0.000000  0.0  0.0  0.0  ...  0.0   \n",
       "2  0.000000  0.0  0.0  0.0  0.0  0.000000  0.000000  0.0  0.0  0.0  ...  0.0   \n",
       "3  0.000000  0.0  0.0  0.0  0.0  0.000000  0.000000  0.0  0.0  0.0  ...  0.0   \n",
       "4  0.000000  0.0  0.0  0.0  0.0  0.000000  0.000000  0.0  0.0  0.0  ...  0.0   \n",
       "5  0.383360  0.0  0.0  0.0  0.0  0.474857  0.000000  0.0  0.0  0.0  ...  0.0   \n",
       "6  0.166653  0.0  0.0  0.0  0.0  0.000000  0.000000  0.0  0.0  0.0  ...  0.0   \n",
       "7  0.395517  0.0  0.0  0.0  0.0  0.000000  0.000000  0.0  0.0  0.0  ...  0.0   \n",
       "8  0.000000  0.0  0.0  0.0  0.0  0.000000  0.210917  0.0  0.0  0.0  ...  0.0   \n",
       "9  0.000000  0.0  0.0  0.0  0.0  0.000000  0.000000  0.0  0.0  0.0  ...  0.0   \n",
       "\n",
       "   991  992  993       994       995  996       997  998  999  \n",
       "0  0.0  0.0  0.0  0.000000  0.276358  0.0  0.000000  0.0  0.0  \n",
       "1  0.0  0.0  0.0  0.000000  0.098278  0.0  0.000000  0.0  0.0  \n",
       "2  0.0  0.0  0.0  0.000000  0.385496  0.0  0.000000  0.0  0.0  \n",
       "3  0.0  0.0  0.0  0.000000  0.142196  0.0  0.000000  0.0  0.0  \n",
       "4  0.0  0.0  0.0  0.000000  0.464054  0.0  0.000000  0.0  0.0  \n",
       "5  0.0  0.0  0.0  0.000000  0.104576  0.0  0.000000  0.0  0.0  \n",
       "6  0.0  0.0  0.0  0.425157  0.530378  0.0  0.032655  0.0  0.0  \n",
       "7  0.0  0.0  0.0  0.000000  0.215785  0.0  0.000000  0.0  0.0  \n",
       "8  0.0  0.0  0.0  0.000000  0.120016  0.0  0.000000  0.0  0.0  \n",
       "9  0.0  0.0  0.0  0.195867  0.111699  0.0  0.000000  0.0  0.0  \n",
       "\n",
       "[10 rows x 1000 columns]"
      ]
     },
     "execution_count": 47,
     "metadata": {},
     "output_type": "execute_result"
    }
   ],
   "source": [
    "complaintfeaturesPd.head(10)"
   ]
  },
  {
   "cell_type": "code",
   "execution_count": null,
   "metadata": {},
   "outputs": [],
   "source": [
    "# Final Data Frame"
   ]
  },
  {
   "cell_type": "code",
   "execution_count": 48,
   "metadata": {},
   "outputs": [],
   "source": [
    "finalPd = pd.concat([pdfProcessed,complaintfeaturesPd], axis=1)"
   ]
  },
  {
   "cell_type": "code",
   "execution_count": 49,
   "metadata": {},
   "outputs": [],
   "source": [
    "cols= finalPd.columns\n",
    "finalCols = cols.delete([0,1])\n",
    "finalPdWrite = finalPd[finalCols]\n",
    "# Save final features\n",
    "finalPdWrite.to_csv('finalfeatures.csv')"
   ]
  },
  {
   "cell_type": "code",
   "execution_count": null,
   "metadata": {},
   "outputs": [],
   "source": []
  }
 ],
 "metadata": {
  "kernelspec": {
   "display_name": "Python 3",
   "language": "python",
   "name": "python3"
  },
  "language_info": {
   "codemirror_mode": {
    "name": "ipython",
    "version": 3
   },
   "file_extension": ".py",
   "mimetype": "text/x-python",
   "name": "python",
   "nbconvert_exporter": "python",
   "pygments_lexer": "ipython3",
   "version": "3.8.5"
  }
 },
 "nbformat": 4,
 "nbformat_minor": 2
}
