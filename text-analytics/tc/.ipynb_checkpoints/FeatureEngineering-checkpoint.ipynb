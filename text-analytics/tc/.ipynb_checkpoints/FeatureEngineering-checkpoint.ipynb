{
 "cells": [
  {
   "cell_type": "code",
   "execution_count": 1,
   "metadata": {},
   "outputs": [],
   "source": [
    "##libraries required\n",
    "import math\n",
    "import re\n",
    "from nltk.metrics import ConfusionMatrix\n",
    "import random\n",
    "import numpy as np\n",
    "import warnings\n",
    "warnings.filterwarnings('ignore')\n",
    "import pickle\n",
    "import numpy\n",
    "import csv\n",
    "from sklearn.feature_extraction import DictVectorizer\n",
    "from sklearn.preprocessing import MaxAbsScaler\n",
    "from sklearn.preprocessing import MinMaxScaler\n",
    "import pandas as pd\n",
    "from sklearn.model_selection import train_test_split\n",
    "import matplotlib.pyplot as plt\n",
    "from matplotlib import interactive\n",
    "interactive(True)\n",
    "import pandas as pd\n",
    "import seaborn\n",
    "from nltk.metrics import ConfusionMatrix\n",
    "import nltk\n",
    "from nltk.stem import WordNetLemmatizer \n",
    "  "
   ]
  },
  {
   "cell_type": "code",
   "execution_count": null,
   "metadata": {},
   "outputs": [],
   "source": [
    "#https://www.kaggle.com/sebastienverpile/consumercomplaintsdata"
   ]
  },
  {
   "cell_type": "code",
   "execution_count": 26,
   "metadata": {},
   "outputs": [
    {
     "name": "stderr",
     "output_type": "stream",
     "text": [
      "[nltk_data] Downloading package wordnet to\n",
      "[nltk_data]     /Users/ritesh.ratti/nltk_data...\n",
      "[nltk_data]   Package wordnet is already up-to-date!\n",
      "[nltk_data] Downloading package stopwords to\n",
      "[nltk_data]     /Users/ritesh.ratti/nltk_data...\n",
      "[nltk_data]   Unzipping corpora/stopwords.zip.\n"
     ]
    },
    {
     "data": {
      "text/plain": [
       "True"
      ]
     },
     "execution_count": 26,
     "metadata": {},
     "output_type": "execute_result"
    }
   ],
   "source": [
    "nltk.download('wordnet')\n",
    "nltk.download('stopwords')"
   ]
  },
  {
   "cell_type": "markdown",
   "metadata": {},
   "source": [
    "# READ JOINED DATA"
   ]
  },
  {
   "cell_type": "code",
   "execution_count": 5,
   "metadata": {},
   "outputs": [],
   "source": [
    "pdfJoinedFinal = pd.read_csv('joineddata.csv')\n"
   ]
  },
  {
   "cell_type": "code",
   "execution_count": 13,
   "metadata": {},
   "outputs": [
    {
     "data": {
      "text/html": [
       "<div>\n",
       "<style scoped>\n",
       "    .dataframe tbody tr th:only-of-type {\n",
       "        vertical-align: middle;\n",
       "    }\n",
       "\n",
       "    .dataframe tbody tr th {\n",
       "        vertical-align: top;\n",
       "    }\n",
       "\n",
       "    .dataframe thead th {\n",
       "        text-align: right;\n",
       "    }\n",
       "</style>\n",
       "<table border=\"1\" class=\"dataframe\">\n",
       "  <thead>\n",
       "    <tr style=\"text-align: right;\">\n",
       "      <th></th>\n",
       "      <th>COMPLAINT_ID</th>\n",
       "      <th>COMPLAINT_TEXT</th>\n",
       "      <th>WAS_USER_DISPUTED</th>\n",
       "      <th>DATE_COMPLAINT_USER</th>\n",
       "      <th>PRODUCT_ID</th>\n",
       "      <th>ISSUE_ID</th>\n",
       "      <th>COMPANY</th>\n",
       "      <th>COMPANY_RESPONSE_TO_USER</th>\n",
       "      <th>COMPANY_RESPONSE_TO_PUBLIC</th>\n",
       "      <th>WAS_RESPONSE_TIMELY</th>\n",
       "      <th>DATE_COMPLAINT_COMPANY</th>\n",
       "      <th>MAIN_ISSUE</th>\n",
       "      <th>SUB_ISSUE</th>\n",
       "      <th>MAIN_PRODUCT</th>\n",
       "      <th>SUB_PRODUCT</th>\n",
       "    </tr>\n",
       "  </thead>\n",
       "  <tbody>\n",
       "    <tr>\n",
       "      <th>0</th>\n",
       "      <td>3184195</td>\n",
       "      <td>XXXX  and Transunion are reporting incorrectly...</td>\n",
       "      <td>No</td>\n",
       "      <td>03/19/2019</td>\n",
       "      <td>26</td>\n",
       "      <td>253</td>\n",
       "      <td>TRANSUNION INTERMEDIATE HOLDINGS, INC.</td>\n",
       "      <td>Closed with explanation</td>\n",
       "      <td>Company has responded to the consumer and the ...</td>\n",
       "      <td>Yes</td>\n",
       "      <td>03/19/2019</td>\n",
       "      <td>Problem with a credit reporting company's inve...</td>\n",
       "      <td>Their investigation did not fix an error on yo...</td>\n",
       "      <td>Credit reporting, credit repair services, or o...</td>\n",
       "      <td>Credit reporting</td>\n",
       "    </tr>\n",
       "    <tr>\n",
       "      <th>1</th>\n",
       "      <td>3184692</td>\n",
       "      <td>XXXX and Transunion are reporting incorrectly ...</td>\n",
       "      <td>No</td>\n",
       "      <td>03/19/2019</td>\n",
       "      <td>26</td>\n",
       "      <td>253</td>\n",
       "      <td>TRANSUNION INTERMEDIATE HOLDINGS, INC.</td>\n",
       "      <td>Closed with explanation</td>\n",
       "      <td>Company has responded to the consumer and the ...</td>\n",
       "      <td>Yes</td>\n",
       "      <td>03/19/2019</td>\n",
       "      <td>Problem with a credit reporting company's inve...</td>\n",
       "      <td>Their investigation did not fix an error on yo...</td>\n",
       "      <td>Credit reporting, credit repair services, or o...</td>\n",
       "      <td>Credit reporting</td>\n",
       "    </tr>\n",
       "    <tr>\n",
       "      <th>2</th>\n",
       "      <td>3182430</td>\n",
       "      <td>3 company with inconsistencies, violations and...</td>\n",
       "      <td>No</td>\n",
       "      <td>03/17/2019</td>\n",
       "      <td>26</td>\n",
       "      <td>253</td>\n",
       "      <td>McCarthy, Burgess &amp; Wolff, Inc.</td>\n",
       "      <td>Closed with explanation</td>\n",
       "      <td>Company believes it acted appropriately as aut...</td>\n",
       "      <td>Yes</td>\n",
       "      <td>03/17/2019</td>\n",
       "      <td>Problem with a credit reporting company's inve...</td>\n",
       "      <td>Their investigation did not fix an error on yo...</td>\n",
       "      <td>Credit reporting, credit repair services, or o...</td>\n",
       "      <td>Credit reporting</td>\n",
       "    </tr>\n",
       "    <tr>\n",
       "      <th>3</th>\n",
       "      <td>3181575</td>\n",
       "      <td>XXXX, XXXX, and Transunion are not taking my c...</td>\n",
       "      <td>No</td>\n",
       "      <td>03/16/2019</td>\n",
       "      <td>26</td>\n",
       "      <td>253</td>\n",
       "      <td>TRANSUNION INTERMEDIATE HOLDINGS, INC.</td>\n",
       "      <td>Closed with explanation</td>\n",
       "      <td>Company has responded to the consumer and the ...</td>\n",
       "      <td>Yes</td>\n",
       "      <td>03/16/2019</td>\n",
       "      <td>Problem with a credit reporting company's inve...</td>\n",
       "      <td>Their investigation did not fix an error on yo...</td>\n",
       "      <td>Credit reporting, credit repair services, or o...</td>\n",
       "      <td>Credit reporting</td>\n",
       "    </tr>\n",
       "    <tr>\n",
       "      <th>4</th>\n",
       "      <td>3181191</td>\n",
       "      <td>Transunion, XXXX, and XXXX Dispute with all th...</td>\n",
       "      <td>No</td>\n",
       "      <td>03/15/2019</td>\n",
       "      <td>26</td>\n",
       "      <td>253</td>\n",
       "      <td>TRANSUNION INTERMEDIATE HOLDINGS, INC.</td>\n",
       "      <td>Closed with explanation</td>\n",
       "      <td>Company has responded to the consumer and the ...</td>\n",
       "      <td>Yes</td>\n",
       "      <td>03/15/2019</td>\n",
       "      <td>Problem with a credit reporting company's inve...</td>\n",
       "      <td>Their investigation did not fix an error on yo...</td>\n",
       "      <td>Credit reporting, credit repair services, or o...</td>\n",
       "      <td>Credit reporting</td>\n",
       "    </tr>\n",
       "  </tbody>\n",
       "</table>\n",
       "</div>"
      ],
      "text/plain": [
       "   COMPLAINT_ID                                     COMPLAINT_TEXT  \\\n",
       "0       3184195  XXXX  and Transunion are reporting incorrectly...   \n",
       "1       3184692  XXXX and Transunion are reporting incorrectly ...   \n",
       "2       3182430  3 company with inconsistencies, violations and...   \n",
       "3       3181575  XXXX, XXXX, and Transunion are not taking my c...   \n",
       "4       3181191  Transunion, XXXX, and XXXX Dispute with all th...   \n",
       "\n",
       "  WAS_USER_DISPUTED DATE_COMPLAINT_USER  PRODUCT_ID  ISSUE_ID  \\\n",
       "0                No          03/19/2019          26       253   \n",
       "1                No          03/19/2019          26       253   \n",
       "2                No          03/17/2019          26       253   \n",
       "3                No          03/16/2019          26       253   \n",
       "4                No          03/15/2019          26       253   \n",
       "\n",
       "                                  COMPANY COMPANY_RESPONSE_TO_USER  \\\n",
       "0  TRANSUNION INTERMEDIATE HOLDINGS, INC.  Closed with explanation   \n",
       "1  TRANSUNION INTERMEDIATE HOLDINGS, INC.  Closed with explanation   \n",
       "2         McCarthy, Burgess & Wolff, Inc.  Closed with explanation   \n",
       "3  TRANSUNION INTERMEDIATE HOLDINGS, INC.  Closed with explanation   \n",
       "4  TRANSUNION INTERMEDIATE HOLDINGS, INC.  Closed with explanation   \n",
       "\n",
       "                          COMPANY_RESPONSE_TO_PUBLIC WAS_RESPONSE_TIMELY  \\\n",
       "0  Company has responded to the consumer and the ...                 Yes   \n",
       "1  Company has responded to the consumer and the ...                 Yes   \n",
       "2  Company believes it acted appropriately as aut...                 Yes   \n",
       "3  Company has responded to the consumer and the ...                 Yes   \n",
       "4  Company has responded to the consumer and the ...                 Yes   \n",
       "\n",
       "  DATE_COMPLAINT_COMPANY                                         MAIN_ISSUE  \\\n",
       "0             03/19/2019  Problem with a credit reporting company's inve...   \n",
       "1             03/19/2019  Problem with a credit reporting company's inve...   \n",
       "2             03/17/2019  Problem with a credit reporting company's inve...   \n",
       "3             03/16/2019  Problem with a credit reporting company's inve...   \n",
       "4             03/15/2019  Problem with a credit reporting company's inve...   \n",
       "\n",
       "                                           SUB_ISSUE  \\\n",
       "0  Their investigation did not fix an error on yo...   \n",
       "1  Their investigation did not fix an error on yo...   \n",
       "2  Their investigation did not fix an error on yo...   \n",
       "3  Their investigation did not fix an error on yo...   \n",
       "4  Their investigation did not fix an error on yo...   \n",
       "\n",
       "                                        MAIN_PRODUCT       SUB_PRODUCT  \n",
       "0  Credit reporting, credit repair services, or o...  Credit reporting  \n",
       "1  Credit reporting, credit repair services, or o...  Credit reporting  \n",
       "2  Credit reporting, credit repair services, or o...  Credit reporting  \n",
       "3  Credit reporting, credit repair services, or o...  Credit reporting  \n",
       "4  Credit reporting, credit repair services, or o...  Credit reporting  "
      ]
     },
     "execution_count": 13,
     "metadata": {},
     "output_type": "execute_result"
    }
   ],
   "source": [
    "pdfJoinedFinal.head()"
   ]
  },
  {
   "cell_type": "code",
   "execution_count": 6,
   "metadata": {},
   "outputs": [
    {
     "data": {
      "text/plain": [
       "Index(['COMPLAINT_ID', 'COMPLAINT_TEXT', 'WAS_USER_DISPUTED',\n",
       "       'DATE_COMPLAINT_USER', 'PRODUCT_ID', 'ISSUE_ID', 'COMPANY',\n",
       "       'COMPANY_RESPONSE_TO_USER', 'COMPANY_RESPONSE_TO_PUBLIC',\n",
       "       'WAS_RESPONSE_TIMELY', 'DATE_COMPLAINT_COMPANY', 'MAIN_ISSUE',\n",
       "       'SUB_ISSUE', 'MAIN_PRODUCT', 'SUB_PRODUCT'],\n",
       "      dtype='object')"
      ]
     },
     "execution_count": 6,
     "metadata": {},
     "output_type": "execute_result"
    }
   ],
   "source": [
    "pdfJoinedFinal.columns"
   ]
  },
  {
   "cell_type": "code",
   "execution_count": 7,
   "metadata": {},
   "outputs": [
    {
     "data": {
      "text/plain": [
       "{'Bank account or service',\n",
       " 'Checking or savings account',\n",
       " 'Consumer Loan',\n",
       " 'Credit card',\n",
       " 'Credit card or prepaid card',\n",
       " 'Credit reporting',\n",
       " 'Credit reporting, credit repair services, or other personal consumer reports',\n",
       " 'Debt collection',\n",
       " 'Money transfer, virtual currency, or money service',\n",
       " 'Money transfers',\n",
       " 'Mortgage',\n",
       " 'Other financial service',\n",
       " 'Payday loan',\n",
       " 'Payday loan, title loan, or personal loan',\n",
       " 'Prepaid card',\n",
       " 'Student loan',\n",
       " 'Vehicle loan or lease',\n",
       " 'Virtual currency'}"
      ]
     },
     "execution_count": 7,
     "metadata": {},
     "output_type": "execute_result"
    }
   ],
   "source": [
    "set(pdfJoinedFinal['MAIN_PRODUCT'].values)"
   ]
  },
  {
   "cell_type": "code",
   "execution_count": 8,
   "metadata": {},
   "outputs": [
    {
     "data": {
      "text/plain": [
       "COMPLAINT_ID                  383066\n",
       "COMPLAINT_TEXT                383066\n",
       "WAS_USER_DISPUTED             383066\n",
       "DATE_COMPLAINT_USER           383066\n",
       "PRODUCT_ID                    383066\n",
       "ISSUE_ID                      383066\n",
       "COMPANY                       383066\n",
       "COMPANY_RESPONSE_TO_USER      383066\n",
       "COMPANY_RESPONSE_TO_PUBLIC    383066\n",
       "WAS_RESPONSE_TIMELY           383066\n",
       "DATE_COMPLAINT_COMPANY        383066\n",
       "MAIN_ISSUE                    383066\n",
       "SUB_ISSUE                     383066\n",
       "MAIN_PRODUCT                  383066\n",
       "SUB_PRODUCT                   330893\n",
       "dtype: int64"
      ]
     },
     "execution_count": 8,
     "metadata": {},
     "output_type": "execute_result"
    }
   ],
   "source": [
    "pdfJoinedFinal.count()"
   ]
  },
  {
   "cell_type": "code",
   "execution_count": 9,
   "metadata": {},
   "outputs": [],
   "source": [
    "pdfJoinedFinalDropped = pdfJoinedFinal.dropna().drop_duplicates()"
   ]
  },
  {
   "cell_type": "code",
   "execution_count": null,
   "metadata": {},
   "outputs": [],
   "source": []
  },
  {
   "cell_type": "markdown",
   "metadata": {},
   "source": [
    "# Data Pre Processing"
   ]
  },
  {
   "cell_type": "code",
   "execution_count": 17,
   "metadata": {},
   "outputs": [],
   "source": [
    "\n",
    "def readDataPandas(df): \n",
    "\n",
    "    print(\"length of data frame:\" + str(len(df)))\n",
    "    dataX=[]\n",
    "    dataY=[]\n",
    "    for i in range(0,len(df)):\n",
    "        dataY.append(df.MAIN_PRODUCT[i])\n",
    "        dataX.append(getfeaturesPandas(df,i))\n",
    "        if i!=0 and i%10000 == 0:\n",
    "            print('Read 10000 records')\n",
    "    return dataX,dataY"
   ]
  },
  {
   "cell_type": "code",
   "execution_count": 16,
   "metadata": {},
   "outputs": [],
   "source": [
    "from datetime import datetime\n",
    "\n",
    "def days_between(d1, d2):\n",
    "    d1 = datetime.strptime(d1, \"%m/%d/%Y\")\n",
    "    d2 = datetime.strptime(d2, \"%m/%d/%Y\")\n",
    "    return abs((d2 - d1).days)\n",
    "\n",
    "# Tokenization Lemmatization and stop Words Removal\n",
    "lemmatizer = WordNetLemmatizer() \n",
    "def getNormalizedSentence(sentence):\n",
    "    # Tokenize\n",
    "    words = nltk.word_tokenize(sentence)\n",
    "    newwords = []\n",
    "    #Lemmatize\n",
    "    for word in words:\n",
    "        newwords.append(lemmatizer.lemmatize(word))\n",
    "        \n",
    "    # Remove STop Words\n",
    "    stop_words = set(stopwords.words('english'))\n",
    "    afterStopWordsRemoval =[]\n",
    "    for w in newwords:\n",
    "        if w not in stop_words:\n",
    "            afterStopWordsRemoval.append(w)\n",
    "            \n",
    "            \n",
    "    return ' '.join(afterStopWordsRemoval)"
   ]
  },
  {
   "cell_type": "markdown",
   "metadata": {},
   "source": [
    "# FEATURES"
   ]
  },
  {
   "cell_type": "code",
   "execution_count": 27,
   "metadata": {},
   "outputs": [],
   "source": [
    "def getfeaturesPandas(df,i):\n",
    "  \n",
    "    featureVals = featuresPandas(df,i)\n",
    "    featureArray=[]\n",
    "    featureArray.append(featureVals['COMPLAINT_TEXT'])\n",
    "    featureArray.append(featureVals['WAS_USER_DISPUTED'])\n",
    "    featureArray.append(featureVals['DATE_COMPLAINT_USER'])\n",
    "    featureArray.append(featureVals['COMPANY'])\n",
    "    featureArray.append(featureVals['COMPANY_RESPONSE_TO_USER'])\n",
    "    featureArray.append(featureVals['COMPANY_RESPONSE_TO_PUBLIC'])\n",
    "    featureArray.append(featureVals['WAS_RESPONSE_TIMELY'])\n",
    "    featureArray.append(featureVals['DATE_COMPLAINT_COMPANY'])\n",
    "    featureArray.append(featureVals['MAIN_ISSUE'])\n",
    "    featureArray.append(featureVals['SUB_ISSUE'])\n",
    "    featureArray.append(featureVals['DIFF_DATE'])\n",
    "    featureArray.append(featureVals['YEAR'])\n",
    "    featureArray.append(featureVals['MONTH'])\n",
    "    featureArray.append(featureVals['DAY'])\n",
    "    \n",
    "                    \n",
    "    return featureArray"
   ]
  },
  {
   "cell_type": "code",
   "execution_count": 19,
   "metadata": {},
   "outputs": [],
   "source": [
    "from nltk.corpus import stopwords \n",
    "from nltk.tokenize import word_tokenize"
   ]
  },
  {
   "cell_type": "code",
   "execution_count": 28,
   "metadata": {},
   "outputs": [],
   "source": [
    "def featuresPandas(df,i): #feature encoder\n",
    "    return {\n",
    "\n",
    "        'COMPLAINT_TEXT' : getNormalizedSentence(df.COMPLAINT_TEXT[i]),\n",
    "        'WAS_USER_DISPUTED' : 1 if df.WAS_USER_DISPUTED[i] == 'Yes' else 0,\n",
    "        'DATE_COMPLAINT_USER' : df.DATE_COMPLAINT_USER[i],\n",
    "        'COMPANY' : df.COMPANY[i],\n",
    "        'COMPANY_RESPONSE_TO_USER' : getNormalizedSentence(df.COMPANY_RESPONSE_TO_USER[i]),\n",
    "        'COMPANY_RESPONSE_TO_PUBLIC' : getNormalizedSentence(df.COMPANY_RESPONSE_TO_PUBLIC[i]),\n",
    "        'WAS_RESPONSE_TIMELY' : 1 if df.WAS_RESPONSE_TIMELY[i] == 'Yes' else 0,\n",
    "        'DATE_COMPLAINT_COMPANY' : df.DATE_COMPLAINT_COMPANY[i],\n",
    "        'MAIN_ISSUE' : getNormalizedSentence(df.MAIN_ISSUE[i]),\n",
    "        'SUB_ISSUE' : getNormalizedSentence(df.SUB_ISSUE[i]), \n",
    "        'DIFF_DATE' : days_between (df.DATE_COMPLAINT_USER[i],df.DATE_COMPLAINT_COMPANY[i]),\n",
    "        'YEAR' :  datetime.strptime(df.DATE_COMPLAINT_USER[i], \"%m/%d/%Y\").year , \n",
    "        'MONTH' : datetime.strptime(df.DATE_COMPLAINT_USER[i], \"%m/%d/%Y\").month ,\n",
    "        'DAY': datetime.strptime(df.DATE_COMPLAINT_USER[i], \"%m/%d/%Y\").day \n",
    "            }"
   ]
  },
  {
   "cell_type": "code",
   "execution_count": 29,
   "metadata": {},
   "outputs": [],
   "source": [
    "# READ DATA\n",
    "df = pd.read_csv('joineddata.csv')\n"
   ]
  },
  {
   "cell_type": "code",
   "execution_count": 30,
   "metadata": {},
   "outputs": [
    {
     "name": "stdout",
     "output_type": "stream",
     "text": [
      "length of data frame:383066\n",
      "Read 10000 records\n",
      "Read 10000 records\n",
      "Read 10000 records\n",
      "Read 10000 records\n",
      "Read 10000 records\n",
      "Read 10000 records\n",
      "Read 10000 records\n",
      "Read 10000 records\n",
      "Read 10000 records\n",
      "Read 10000 records\n",
      "Read 10000 records\n",
      "Read 10000 records\n",
      "Read 10000 records\n",
      "Read 10000 records\n",
      "Read 10000 records\n",
      "Read 10000 records\n",
      "Read 10000 records\n",
      "Read 10000 records\n",
      "Read 10000 records\n",
      "Read 10000 records\n",
      "Read 10000 records\n",
      "Read 10000 records\n",
      "Read 10000 records\n",
      "Read 10000 records\n",
      "Read 10000 records\n",
      "Read 10000 records\n",
      "Read 10000 records\n",
      "Read 10000 records\n",
      "Read 10000 records\n",
      "Read 10000 records\n",
      "Read 10000 records\n",
      "Read 10000 records\n",
      "Read 10000 records\n",
      "Read 10000 records\n",
      "Read 10000 records\n",
      "Read 10000 records\n",
      "Read 10000 records\n",
      "Read 10000 records\n"
     ]
    }
   ],
   "source": [
    "\n",
    "dataX, dataY=readDataPandas(df)\n",
    "n_samples=len(dataX)\n"
   ]
  },
  {
   "cell_type": "code",
   "execution_count": 32,
   "metadata": {},
   "outputs": [
    {
     "data": {
      "text/plain": [
       "383066"
      ]
     },
     "execution_count": 32,
     "metadata": {},
     "output_type": "execute_result"
    }
   ],
   "source": [
    "len(dataX)"
   ]
  },
  {
   "cell_type": "code",
   "execution_count": 33,
   "metadata": {},
   "outputs": [
    {
     "data": {
      "text/plain": [
       "['XXXX Transunion reporting incorrectly I 120 day past due loan XXXX - partial account number XXXX ; XXXX ; XXXX ; XXXX .. These account reflect { $ 0.00 } balance { $ 0.00 } past due . I contacted two bureau requested coding error corrected . This incorrect reporting harming credit score . It impossible past due account { $ 0.00 } balance { $ 0.00 } past due .',\n",
       " 0,\n",
       " '03/19/2019',\n",
       " 'TRANSUNION INTERMEDIATE HOLDINGS, INC.',\n",
       " 'Closed explanation',\n",
       " 'Company ha responded consumer CFPB chooses provide public response',\n",
       " 1,\n",
       " '03/19/2019',\n",
       " \"Problem credit reporting company 's investigation existing problem\",\n",
       " 'Their investigation fix error report',\n",
       " 0,\n",
       " 2019,\n",
       " 3,\n",
       " 19]"
      ]
     },
     "execution_count": 33,
     "metadata": {},
     "output_type": "execute_result"
    }
   ],
   "source": [
    "dataX[0]"
   ]
  },
  {
   "cell_type": "code",
   "execution_count": 34,
   "metadata": {},
   "outputs": [],
   "source": [
    "\n",
    "\n",
    "cols = [ 'COMPLAINT_TEXT' , 'WAS_USER_DISPUTED' , 'DATE_COMPLAINT_USER' , 'COMPANY' ,'COMPANY_RESPONSE_TO_USER' , 'COMPANY_RESPONSE_TO_PUBLIC', 'WAS_RESPONSE_TIMELY' ,'DATE_COMPLAINT_COMPANY' , 'MAIN_ISSUE' , 'SUB_ISSUE' ,'DIFF_DATE' ,'YEAR' , 'MONTH' , 'DAY']"
   ]
  },
  {
   "cell_type": "code",
   "execution_count": 35,
   "metadata": {},
   "outputs": [
    {
     "data": {
      "text/plain": [
       "14"
      ]
     },
     "execution_count": 35,
     "metadata": {},
     "output_type": "execute_result"
    }
   ],
   "source": [
    "len(cols)"
   ]
  },
  {
   "cell_type": "code",
   "execution_count": 36,
   "metadata": {},
   "outputs": [],
   "source": [
    "pdfProcessed = pd.DataFrame(dataX , columns=cols)"
   ]
  },
  {
   "cell_type": "code",
   "execution_count": 37,
   "metadata": {},
   "outputs": [
    {
     "data": {
      "text/html": [
       "<div>\n",
       "<style scoped>\n",
       "    .dataframe tbody tr th:only-of-type {\n",
       "        vertical-align: middle;\n",
       "    }\n",
       "\n",
       "    .dataframe tbody tr th {\n",
       "        vertical-align: top;\n",
       "    }\n",
       "\n",
       "    .dataframe thead th {\n",
       "        text-align: right;\n",
       "    }\n",
       "</style>\n",
       "<table border=\"1\" class=\"dataframe\">\n",
       "  <thead>\n",
       "    <tr style=\"text-align: right;\">\n",
       "      <th></th>\n",
       "      <th>COMPLAINT_TEXT</th>\n",
       "      <th>WAS_USER_DISPUTED</th>\n",
       "      <th>DATE_COMPLAINT_USER</th>\n",
       "      <th>COMPANY</th>\n",
       "      <th>COMPANY_RESPONSE_TO_USER</th>\n",
       "      <th>COMPANY_RESPONSE_TO_PUBLIC</th>\n",
       "      <th>WAS_RESPONSE_TIMELY</th>\n",
       "      <th>DATE_COMPLAINT_COMPANY</th>\n",
       "      <th>MAIN_ISSUE</th>\n",
       "      <th>SUB_ISSUE</th>\n",
       "      <th>DIFF_DATE</th>\n",
       "      <th>YEAR</th>\n",
       "      <th>MONTH</th>\n",
       "      <th>DAY</th>\n",
       "    </tr>\n",
       "  </thead>\n",
       "  <tbody>\n",
       "    <tr>\n",
       "      <th>0</th>\n",
       "      <td>XXXX Transunion reporting incorrectly I 120 da...</td>\n",
       "      <td>0</td>\n",
       "      <td>03/19/2019</td>\n",
       "      <td>TRANSUNION INTERMEDIATE HOLDINGS, INC.</td>\n",
       "      <td>Closed explanation</td>\n",
       "      <td>Company ha responded consumer CFPB chooses pro...</td>\n",
       "      <td>1</td>\n",
       "      <td>03/19/2019</td>\n",
       "      <td>Problem credit reporting company 's investigat...</td>\n",
       "      <td>Their investigation fix error report</td>\n",
       "      <td>0</td>\n",
       "      <td>2019</td>\n",
       "      <td>3</td>\n",
       "      <td>19</td>\n",
       "    </tr>\n",
       "    <tr>\n",
       "      <th>1</th>\n",
       "      <td>XXXX Transunion reporting incorrectly I 120 da...</td>\n",
       "      <td>0</td>\n",
       "      <td>03/19/2019</td>\n",
       "      <td>TRANSUNION INTERMEDIATE HOLDINGS, INC.</td>\n",
       "      <td>Closed explanation</td>\n",
       "      <td>Company ha responded consumer CFPB chooses pro...</td>\n",
       "      <td>1</td>\n",
       "      <td>03/19/2019</td>\n",
       "      <td>Problem credit reporting company 's investigat...</td>\n",
       "      <td>Their investigation fix error report</td>\n",
       "      <td>0</td>\n",
       "      <td>2019</td>\n",
       "      <td>3</td>\n",
       "      <td>19</td>\n",
       "    </tr>\n",
       "  </tbody>\n",
       "</table>\n",
       "</div>"
      ],
      "text/plain": [
       "                                      COMPLAINT_TEXT  WAS_USER_DISPUTED  \\\n",
       "0  XXXX Transunion reporting incorrectly I 120 da...                  0   \n",
       "1  XXXX Transunion reporting incorrectly I 120 da...                  0   \n",
       "\n",
       "  DATE_COMPLAINT_USER                                 COMPANY  \\\n",
       "0          03/19/2019  TRANSUNION INTERMEDIATE HOLDINGS, INC.   \n",
       "1          03/19/2019  TRANSUNION INTERMEDIATE HOLDINGS, INC.   \n",
       "\n",
       "  COMPANY_RESPONSE_TO_USER                         COMPANY_RESPONSE_TO_PUBLIC  \\\n",
       "0       Closed explanation  Company ha responded consumer CFPB chooses pro...   \n",
       "1       Closed explanation  Company ha responded consumer CFPB chooses pro...   \n",
       "\n",
       "   WAS_RESPONSE_TIMELY DATE_COMPLAINT_COMPANY  \\\n",
       "0                    1             03/19/2019   \n",
       "1                    1             03/19/2019   \n",
       "\n",
       "                                          MAIN_ISSUE  \\\n",
       "0  Problem credit reporting company 's investigat...   \n",
       "1  Problem credit reporting company 's investigat...   \n",
       "\n",
       "                              SUB_ISSUE  DIFF_DATE  YEAR  MONTH  DAY  \n",
       "0  Their investigation fix error report          0  2019      3   19  \n",
       "1  Their investigation fix error report          0  2019      3   19  "
      ]
     },
     "execution_count": 37,
     "metadata": {},
     "output_type": "execute_result"
    }
   ],
   "source": [
    "pdfProcessed.head(2)"
   ]
  },
  {
   "cell_type": "code",
   "execution_count": 38,
   "metadata": {},
   "outputs": [],
   "source": [
    "pdfProcessed.to_csv('pdf_processed_data.csv')"
   ]
  },
  {
   "cell_type": "code",
   "execution_count": null,
   "metadata": {},
   "outputs": [],
   "source": [
    "# Read Data "
   ]
  },
  {
   "cell_type": "code",
   "execution_count": 39,
   "metadata": {},
   "outputs": [],
   "source": [
    "pdfProcessed = pd.read_csv('pdf_processed_data.csv')"
   ]
  },
  {
   "cell_type": "code",
   "execution_count": 40,
   "metadata": {},
   "outputs": [],
   "source": [
    "pdfProcessed  = pdfProcessed.fillna('')"
   ]
  },
  {
   "cell_type": "code",
   "execution_count": 41,
   "metadata": {},
   "outputs": [
    {
     "data": {
      "text/plain": [
       "Unnamed: 0                    383066\n",
       "COMPLAINT_TEXT                383066\n",
       "WAS_USER_DISPUTED             383066\n",
       "DATE_COMPLAINT_USER           383066\n",
       "COMPANY                       383066\n",
       "COMPANY_RESPONSE_TO_USER      383066\n",
       "COMPANY_RESPONSE_TO_PUBLIC    383066\n",
       "WAS_RESPONSE_TIMELY           383066\n",
       "DATE_COMPLAINT_COMPANY        383066\n",
       "MAIN_ISSUE                    383066\n",
       "SUB_ISSUE                     383066\n",
       "DIFF_DATE                     383066\n",
       "YEAR                          383066\n",
       "MONTH                         383066\n",
       "DAY                           383066\n",
       "dtype: int64"
      ]
     },
     "execution_count": 41,
     "metadata": {},
     "output_type": "execute_result"
    }
   ],
   "source": [
    "pdfProcessed.count()"
   ]
  },
  {
   "cell_type": "markdown",
   "metadata": {},
   "source": [
    "# TFIDF Vectorize the COMPLAINT_TEXT"
   ]
  },
  {
   "cell_type": "code",
   "execution_count": 42,
   "metadata": {},
   "outputs": [],
   "source": [
    "from sklearn.feature_extraction.text import TfidfVectorizer\n",
    "v = TfidfVectorizer( min_df=5, norm='l2', stop_words='english', max_features=1000, lowercase=True)\n",
    "complaintfeatures = v.fit_transform(pdfProcessed['COMPLAINT_TEXT']).toarray()\n",
    "\n"
   ]
  },
  {
   "cell_type": "code",
   "execution_count": 43,
   "metadata": {},
   "outputs": [
    {
     "data": {
      "text/plain": [
       "'XXXX Transunion reporting incorrectly I 120 day past due loan XXXX - partial account number XXXX ; XXXX ; XXXX ; XXXX .. These account reflect { $ 0.00 } balance { $ 0.00 } past due . I contacted two bureau requested coding error corrected . This incorrect reporting harming credit score . It impossible past due account { $ 0.00 } balance { $ 0.00 } past due .'"
      ]
     },
     "execution_count": 43,
     "metadata": {},
     "output_type": "execute_result"
    }
   ],
   "source": [
    "pdfProcessed['COMPLAINT_TEXT'][0]"
   ]
  },
  {
   "cell_type": "code",
   "execution_count": 44,
   "metadata": {},
   "outputs": [],
   "source": [
    "# Dave tfidf vectorizer\n",
    "with open('tfidfvectorizer.pkl', 'wb') as fid:\n",
    "    pickle.dump(v, fid)\n"
   ]
  },
  {
   "cell_type": "code",
   "execution_count": 45,
   "metadata": {},
   "outputs": [
    {
     "data": {
      "text/plain": [
       "(383066, 1000)"
      ]
     },
     "execution_count": 45,
     "metadata": {},
     "output_type": "execute_result"
    }
   ],
   "source": [
    "complaintfeatures.shape"
   ]
  },
  {
   "cell_type": "code",
   "execution_count": 46,
   "metadata": {},
   "outputs": [],
   "source": [
    "complaintfeaturesPd = pd.DataFrame(complaintfeatures)"
   ]
  },
  {
   "cell_type": "code",
   "execution_count": 47,
   "metadata": {},
   "outputs": [
    {
     "data": {
      "text/html": [
       "<div>\n",
       "<style scoped>\n",
       "    .dataframe tbody tr th:only-of-type {\n",
       "        vertical-align: middle;\n",
       "    }\n",
       "\n",
       "    .dataframe tbody tr th {\n",
       "        vertical-align: top;\n",
       "    }\n",
       "\n",
       "    .dataframe thead th {\n",
       "        text-align: right;\n",
       "    }\n",
       "</style>\n",
       "<table border=\"1\" class=\"dataframe\">\n",
       "  <thead>\n",
       "    <tr style=\"text-align: right;\">\n",
       "      <th></th>\n",
       "      <th>0</th>\n",
       "      <th>1</th>\n",
       "      <th>2</th>\n",
       "      <th>3</th>\n",
       "      <th>4</th>\n",
       "      <th>5</th>\n",
       "      <th>6</th>\n",
       "      <th>7</th>\n",
       "      <th>8</th>\n",
       "      <th>9</th>\n",
       "      <th>...</th>\n",
       "      <th>990</th>\n",
       "      <th>991</th>\n",
       "      <th>992</th>\n",
       "      <th>993</th>\n",
       "      <th>994</th>\n",
       "      <th>995</th>\n",
       "      <th>996</th>\n",
       "      <th>997</th>\n",
       "      <th>998</th>\n",
       "      <th>999</th>\n",
       "    </tr>\n",
       "  </thead>\n",
       "  <tbody>\n",
       "    <tr>\n",
       "      <th>0</th>\n",
       "      <td>0.337695</td>\n",
       "      <td>0.0</td>\n",
       "      <td>0.0</td>\n",
       "      <td>0.0</td>\n",
       "      <td>0.0</td>\n",
       "      <td>0.209146</td>\n",
       "      <td>0.000000</td>\n",
       "      <td>0.0</td>\n",
       "      <td>0.0</td>\n",
       "      <td>0.0</td>\n",
       "      <td>...</td>\n",
       "      <td>0.0</td>\n",
       "      <td>0.0</td>\n",
       "      <td>0.0</td>\n",
       "      <td>0.0</td>\n",
       "      <td>0.000000</td>\n",
       "      <td>0.276358</td>\n",
       "      <td>0.0</td>\n",
       "      <td>0.000000</td>\n",
       "      <td>0.0</td>\n",
       "      <td>0.0</td>\n",
       "    </tr>\n",
       "    <tr>\n",
       "      <th>1</th>\n",
       "      <td>0.360271</td>\n",
       "      <td>0.0</td>\n",
       "      <td>0.0</td>\n",
       "      <td>0.0</td>\n",
       "      <td>0.0</td>\n",
       "      <td>0.223129</td>\n",
       "      <td>0.000000</td>\n",
       "      <td>0.0</td>\n",
       "      <td>0.0</td>\n",
       "      <td>0.0</td>\n",
       "      <td>...</td>\n",
       "      <td>0.0</td>\n",
       "      <td>0.0</td>\n",
       "      <td>0.0</td>\n",
       "      <td>0.0</td>\n",
       "      <td>0.000000</td>\n",
       "      <td>0.098278</td>\n",
       "      <td>0.0</td>\n",
       "      <td>0.000000</td>\n",
       "      <td>0.0</td>\n",
       "      <td>0.0</td>\n",
       "    </tr>\n",
       "    <tr>\n",
       "      <th>2</th>\n",
       "      <td>0.000000</td>\n",
       "      <td>0.0</td>\n",
       "      <td>0.0</td>\n",
       "      <td>0.0</td>\n",
       "      <td>0.0</td>\n",
       "      <td>0.000000</td>\n",
       "      <td>0.000000</td>\n",
       "      <td>0.0</td>\n",
       "      <td>0.0</td>\n",
       "      <td>0.0</td>\n",
       "      <td>...</td>\n",
       "      <td>0.0</td>\n",
       "      <td>0.0</td>\n",
       "      <td>0.0</td>\n",
       "      <td>0.0</td>\n",
       "      <td>0.000000</td>\n",
       "      <td>0.385496</td>\n",
       "      <td>0.0</td>\n",
       "      <td>0.000000</td>\n",
       "      <td>0.0</td>\n",
       "      <td>0.0</td>\n",
       "    </tr>\n",
       "    <tr>\n",
       "      <th>3</th>\n",
       "      <td>0.000000</td>\n",
       "      <td>0.0</td>\n",
       "      <td>0.0</td>\n",
       "      <td>0.0</td>\n",
       "      <td>0.0</td>\n",
       "      <td>0.000000</td>\n",
       "      <td>0.000000</td>\n",
       "      <td>0.0</td>\n",
       "      <td>0.0</td>\n",
       "      <td>0.0</td>\n",
       "      <td>...</td>\n",
       "      <td>0.0</td>\n",
       "      <td>0.0</td>\n",
       "      <td>0.0</td>\n",
       "      <td>0.0</td>\n",
       "      <td>0.000000</td>\n",
       "      <td>0.142196</td>\n",
       "      <td>0.0</td>\n",
       "      <td>0.000000</td>\n",
       "      <td>0.0</td>\n",
       "      <td>0.0</td>\n",
       "    </tr>\n",
       "    <tr>\n",
       "      <th>4</th>\n",
       "      <td>0.000000</td>\n",
       "      <td>0.0</td>\n",
       "      <td>0.0</td>\n",
       "      <td>0.0</td>\n",
       "      <td>0.0</td>\n",
       "      <td>0.000000</td>\n",
       "      <td>0.000000</td>\n",
       "      <td>0.0</td>\n",
       "      <td>0.0</td>\n",
       "      <td>0.0</td>\n",
       "      <td>...</td>\n",
       "      <td>0.0</td>\n",
       "      <td>0.0</td>\n",
       "      <td>0.0</td>\n",
       "      <td>0.0</td>\n",
       "      <td>0.000000</td>\n",
       "      <td>0.464054</td>\n",
       "      <td>0.0</td>\n",
       "      <td>0.000000</td>\n",
       "      <td>0.0</td>\n",
       "      <td>0.0</td>\n",
       "    </tr>\n",
       "    <tr>\n",
       "      <th>5</th>\n",
       "      <td>0.383360</td>\n",
       "      <td>0.0</td>\n",
       "      <td>0.0</td>\n",
       "      <td>0.0</td>\n",
       "      <td>0.0</td>\n",
       "      <td>0.474857</td>\n",
       "      <td>0.000000</td>\n",
       "      <td>0.0</td>\n",
       "      <td>0.0</td>\n",
       "      <td>0.0</td>\n",
       "      <td>...</td>\n",
       "      <td>0.0</td>\n",
       "      <td>0.0</td>\n",
       "      <td>0.0</td>\n",
       "      <td>0.0</td>\n",
       "      <td>0.000000</td>\n",
       "      <td>0.104576</td>\n",
       "      <td>0.0</td>\n",
       "      <td>0.000000</td>\n",
       "      <td>0.0</td>\n",
       "      <td>0.0</td>\n",
       "    </tr>\n",
       "    <tr>\n",
       "      <th>6</th>\n",
       "      <td>0.166653</td>\n",
       "      <td>0.0</td>\n",
       "      <td>0.0</td>\n",
       "      <td>0.0</td>\n",
       "      <td>0.0</td>\n",
       "      <td>0.000000</td>\n",
       "      <td>0.000000</td>\n",
       "      <td>0.0</td>\n",
       "      <td>0.0</td>\n",
       "      <td>0.0</td>\n",
       "      <td>...</td>\n",
       "      <td>0.0</td>\n",
       "      <td>0.0</td>\n",
       "      <td>0.0</td>\n",
       "      <td>0.0</td>\n",
       "      <td>0.425157</td>\n",
       "      <td>0.530378</td>\n",
       "      <td>0.0</td>\n",
       "      <td>0.032655</td>\n",
       "      <td>0.0</td>\n",
       "      <td>0.0</td>\n",
       "    </tr>\n",
       "    <tr>\n",
       "      <th>7</th>\n",
       "      <td>0.395517</td>\n",
       "      <td>0.0</td>\n",
       "      <td>0.0</td>\n",
       "      <td>0.0</td>\n",
       "      <td>0.0</td>\n",
       "      <td>0.000000</td>\n",
       "      <td>0.000000</td>\n",
       "      <td>0.0</td>\n",
       "      <td>0.0</td>\n",
       "      <td>0.0</td>\n",
       "      <td>...</td>\n",
       "      <td>0.0</td>\n",
       "      <td>0.0</td>\n",
       "      <td>0.0</td>\n",
       "      <td>0.0</td>\n",
       "      <td>0.000000</td>\n",
       "      <td>0.215785</td>\n",
       "      <td>0.0</td>\n",
       "      <td>0.000000</td>\n",
       "      <td>0.0</td>\n",
       "      <td>0.0</td>\n",
       "    </tr>\n",
       "    <tr>\n",
       "      <th>8</th>\n",
       "      <td>0.000000</td>\n",
       "      <td>0.0</td>\n",
       "      <td>0.0</td>\n",
       "      <td>0.0</td>\n",
       "      <td>0.0</td>\n",
       "      <td>0.000000</td>\n",
       "      <td>0.210917</td>\n",
       "      <td>0.0</td>\n",
       "      <td>0.0</td>\n",
       "      <td>0.0</td>\n",
       "      <td>...</td>\n",
       "      <td>0.0</td>\n",
       "      <td>0.0</td>\n",
       "      <td>0.0</td>\n",
       "      <td>0.0</td>\n",
       "      <td>0.000000</td>\n",
       "      <td>0.120016</td>\n",
       "      <td>0.0</td>\n",
       "      <td>0.000000</td>\n",
       "      <td>0.0</td>\n",
       "      <td>0.0</td>\n",
       "    </tr>\n",
       "    <tr>\n",
       "      <th>9</th>\n",
       "      <td>0.000000</td>\n",
       "      <td>0.0</td>\n",
       "      <td>0.0</td>\n",
       "      <td>0.0</td>\n",
       "      <td>0.0</td>\n",
       "      <td>0.000000</td>\n",
       "      <td>0.000000</td>\n",
       "      <td>0.0</td>\n",
       "      <td>0.0</td>\n",
       "      <td>0.0</td>\n",
       "      <td>...</td>\n",
       "      <td>0.0</td>\n",
       "      <td>0.0</td>\n",
       "      <td>0.0</td>\n",
       "      <td>0.0</td>\n",
       "      <td>0.195867</td>\n",
       "      <td>0.111699</td>\n",
       "      <td>0.0</td>\n",
       "      <td>0.000000</td>\n",
       "      <td>0.0</td>\n",
       "      <td>0.0</td>\n",
       "    </tr>\n",
       "  </tbody>\n",
       "</table>\n",
       "<p>10 rows × 1000 columns</p>\n",
       "</div>"
      ],
      "text/plain": [
       "        0    1    2    3    4         5         6    7    8    9    ...  990  \\\n",
       "0  0.337695  0.0  0.0  0.0  0.0  0.209146  0.000000  0.0  0.0  0.0  ...  0.0   \n",
       "1  0.360271  0.0  0.0  0.0  0.0  0.223129  0.000000  0.0  0.0  0.0  ...  0.0   \n",
       "2  0.000000  0.0  0.0  0.0  0.0  0.000000  0.000000  0.0  0.0  0.0  ...  0.0   \n",
       "3  0.000000  0.0  0.0  0.0  0.0  0.000000  0.000000  0.0  0.0  0.0  ...  0.0   \n",
       "4  0.000000  0.0  0.0  0.0  0.0  0.000000  0.000000  0.0  0.0  0.0  ...  0.0   \n",
       "5  0.383360  0.0  0.0  0.0  0.0  0.474857  0.000000  0.0  0.0  0.0  ...  0.0   \n",
       "6  0.166653  0.0  0.0  0.0  0.0  0.000000  0.000000  0.0  0.0  0.0  ...  0.0   \n",
       "7  0.395517  0.0  0.0  0.0  0.0  0.000000  0.000000  0.0  0.0  0.0  ...  0.0   \n",
       "8  0.000000  0.0  0.0  0.0  0.0  0.000000  0.210917  0.0  0.0  0.0  ...  0.0   \n",
       "9  0.000000  0.0  0.0  0.0  0.0  0.000000  0.000000  0.0  0.0  0.0  ...  0.0   \n",
       "\n",
       "   991  992  993       994       995  996       997  998  999  \n",
       "0  0.0  0.0  0.0  0.000000  0.276358  0.0  0.000000  0.0  0.0  \n",
       "1  0.0  0.0  0.0  0.000000  0.098278  0.0  0.000000  0.0  0.0  \n",
       "2  0.0  0.0  0.0  0.000000  0.385496  0.0  0.000000  0.0  0.0  \n",
       "3  0.0  0.0  0.0  0.000000  0.142196  0.0  0.000000  0.0  0.0  \n",
       "4  0.0  0.0  0.0  0.000000  0.464054  0.0  0.000000  0.0  0.0  \n",
       "5  0.0  0.0  0.0  0.000000  0.104576  0.0  0.000000  0.0  0.0  \n",
       "6  0.0  0.0  0.0  0.425157  0.530378  0.0  0.032655  0.0  0.0  \n",
       "7  0.0  0.0  0.0  0.000000  0.215785  0.0  0.000000  0.0  0.0  \n",
       "8  0.0  0.0  0.0  0.000000  0.120016  0.0  0.000000  0.0  0.0  \n",
       "9  0.0  0.0  0.0  0.195867  0.111699  0.0  0.000000  0.0  0.0  \n",
       "\n",
       "[10 rows x 1000 columns]"
      ]
     },
     "execution_count": 47,
     "metadata": {},
     "output_type": "execute_result"
    }
   ],
   "source": [
    "complaintfeaturesPd.head(10)"
   ]
  },
  {
   "cell_type": "code",
   "execution_count": null,
   "metadata": {},
   "outputs": [],
   "source": [
    "# Final Data Frame"
   ]
  },
  {
   "cell_type": "code",
   "execution_count": 48,
   "metadata": {},
   "outputs": [],
   "source": [
    "finalPd = pd.concat([pdfProcessed,complaintfeaturesPd], axis=1)"
   ]
  },
  {
   "cell_type": "code",
   "execution_count": null,
   "metadata": {},
   "outputs": [],
   "source": [
    "cols= finalPd.columns\n",
    "finalCols = cols.delete([0,1])\n",
    "finalPdWrite = finalPd[finalCols]\n",
    "# Save final features\n",
    "finalPdWrite.to_csv('finalfeatures.csv')"
   ]
  },
  {
   "cell_type": "code",
   "execution_count": null,
   "metadata": {},
   "outputs": [],
   "source": []
  }
 ],
 "metadata": {
  "kernelspec": {
   "display_name": "Python 3",
   "language": "python",
   "name": "python3"
  },
  "language_info": {
   "codemirror_mode": {
    "name": "ipython",
    "version": 3
   },
   "file_extension": ".py",
   "mimetype": "text/x-python",
   "name": "python",
   "nbconvert_exporter": "python",
   "pygments_lexer": "ipython3",
   "version": "3.8.5"
  }
 },
 "nbformat": 4,
 "nbformat_minor": 2
}
