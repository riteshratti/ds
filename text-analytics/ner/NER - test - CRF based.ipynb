{
 "cells": [
  {
   "cell_type": "markdown",
   "metadata": {},
   "source": [
    "#### Sample code for NER "
   ]
  },
  {
   "cell_type": "code",
   "execution_count": 15,
   "metadata": {
    "scrolled": true
   },
   "outputs": [],
   "source": [
    "import nltk\n",
    "from nltk.tokenize import word_tokenize, sent_tokenize\n",
    "import pycrfsuite"
   ]
  },
  {
   "cell_type": "code",
   "execution_count": 16,
   "metadata": {},
   "outputs": [
    {
     "data": {
      "text/plain": [
       "'\\nHere in this notebook, I am doing the experiment using CONLL corpus \\nI have to clean the data a bit\\n\\nand have then extracted features for organization \\nfor all the other words in the coprus , i put them in OTHER category and then doing the prediction using SVM and logistic \\nregression\\n\\nHere the approach to follow is\\nmake 4 classes for person, location, organization, misc\\nmake 5th class for others ( like verb , CD )\\nand then do classification for all these entities in one go\\n\\n\\nbut the question is - will the feature for organization be similar to name or location.\\nWell most of them are .. so for non relevant features we can put NA\\n\\nelse look for some advance approach, like adding random forest , e.g\\nhttps://www.kaggle.com/c/word2vec-nlp-tutorial/details/part-1-for-beginners-bag-of-words \\n'"
      ]
     },
     "execution_count": 16,
     "metadata": {},
     "output_type": "execute_result"
    }
   ],
   "source": [
    "'''\n",
    "Here in this notebook, I am doing the experiment using CONLL corpus \n",
    "I have to clean the data a bit\n",
    "\n",
    "and have then extracted features for organization \n",
    "for all the other words in the coprus , i put them in OTHER category and then doing the prediction using SVM and logistic \n",
    "regression\n",
    "\n",
    "Here the approach to follow is\n",
    "make 4 classes for person, location, organization, misc\n",
    "make 5th class for others ( like verb , CD )\n",
    "and then do classification for all these entities in one go\n",
    "\n",
    "\n",
    "but the question is - will the feature for organization be similar to name or location.\n",
    "Well most of them are .. so for non relevant features we can put NA\n",
    "\n",
    "else look for some advance approach, like adding random forest , e.g\n",
    "https://www.kaggle.com/c/word2vec-nlp-tutorial/details/part-1-for-beginners-bag-of-words \n",
    "'''"
   ]
  },
  {
   "cell_type": "code",
   "execution_count": 17,
   "metadata": {
    "scrolled": true
   },
   "outputs": [
    {
     "name": "stdout",
     "output_type": "stream",
     "text": [
      "3483\n"
     ]
    }
   ],
   "source": [
    "NER_train_Corpus = open ( \"D:\\\\pb_anshul\\\\temp\\\\temp_prj\\\\nlp_prj\\\\NER\\\\Co-nll-data\\\\eng.testb\" , 'r')\n",
    "#read the complete corpus\n",
    "corpus= NER_train_Corpus.read()\n",
    "\n",
    "#separate in sentences\n",
    "sentences_in_corpus = sent_tokenize(corpus)\n",
    "\n",
    "#separate the words in each sentence\n",
    "sentences_with_words = []\n",
    "for sent in sentences_in_corpus:\n",
    "    sentences_with_words.append( word_tokenize(sent) )\n",
    "\n",
    "#do some cleaning of corpus\n",
    "#1. remove 'O' , 'O' from start\n",
    "#2. remove sentence with 1 word\n",
    "count = 0\n",
    "length = len(sentences_with_words)\n",
    "print length\n",
    "while (count < length):\n",
    "    words = sentences_with_words[count]\n",
    "\n",
    "    if words[0] == '.' : \n",
    "        del sentences_with_words[count]\n",
    "        length = length - 1\n",
    "    elif (words[0] == 'O' and words[1] == 'O' ): \n",
    "        del sentences_with_words[count][0]\n",
    "        del sentences_with_words[count][0]\n",
    "        count = count + 1\n",
    "    else :\n",
    "        count = count + 1\n",
    "\n",
    "NER_train_Corpus.close()"
   ]
  },
  {
   "cell_type": "code",
   "execution_count": 18,
   "metadata": {
    "collapsed": true
   },
   "outputs": [],
   "source": [
    "def is_first_letter_in_word_capitalized( word ):\n",
    "    if not word.islower() and not word.isupper():    \n",
    "        return 1\n",
    "    else:\n",
    "        return 0"
   ]
  },
  {
   "cell_type": "code",
   "execution_count": 19,
   "metadata": {},
   "outputs": [],
   "source": [
    "'''\n",
    "Features \n",
    "\n",
    "Word features/Lexical features: \n",
    "    1) Bag of words - Tokens in the window c = (xi−2, xi−1, xi , xi+1, xi+2)\n",
    "        1) current word \n",
    "        2) previous two words,\n",
    "        3) next two words\n",
    "\n",
    "Syntactic features\n",
    "    1) POS tags for xi−1, xi , xi+1\n",
    "    2) IOB tags for xi−1, xi , xi+1\n",
    "\n",
    "Orthographic features :\n",
    "    1) capitalization pattern in the window c \n",
    "    E.g . Jenny --> Xxxx\n",
    "        . IL-2 --> XX-#\n",
    "    But i have taken sequence of only first alphabet in each word, X if capital , x if small\n",
    "    2) xi word type \n",
    "        1) all-capitalized - > are all letters capitalized\n",
    "        2) is-capitalized -> is the first letter capitalized\n",
    "        5) is it the first word in sentence\n",
    "        6) is it the last word in sentence\n",
    "    3) capitalization pattern in the window c \n",
    "\n",
    "\n",
    "### Not used features\n",
    "Word features :\n",
    "    1) Trigger words - (e.g. Inc., Co., Mr.).\n",
    "\n",
    "Linguistic features :\n",
    "    1. dictionaries\n",
    "    2. Word-net\n",
    "    3. Custom lists\n",
    "    4. Gazetteer based recognition\n",
    "\n",
    "Orthographic features :\n",
    "    1. prefixes and suffixes of xi \n",
    "    2. conjunction of c and yi−1.\n",
    "    3. all-digits\n",
    "    4. alphanumeric\n",
    "    5. Regular expressions\n",
    "    \n",
    "other features that can be used \n",
    "\n",
    ". Topic Feature \n",
    ". Word2Vec feature\n",
    "\n",
    "\n",
    "\n",
    "If you can look up the whole document , then Context aggregation, Extended prediction history can be used\n",
    "'''\n",
    "\n",
    "def extract_features(sentence,index):\n",
    "        \n",
    "    #tokens in the window c = (xi−2, xi−1, xi , xi+1, xi+2) \n",
    "    token_in_window =[]\n",
    "    token_in_window[0:5] = ['NA','NA','NA','NA','NA'] # 2 words preceeding current word and 2 words after current word\n",
    "    pre_entity_1 = 'NA'\n",
    "    pre_entity_2 = 'NA'\n",
    "    \n",
    "    if(index >= 11) :# this is a word which has two preceeding words to it in the sentence\n",
    "        token_in_window[1] = sentence[index-7]\n",
    "        token_in_window[0] = sentence[index-11]\n",
    "        pre_entity_1 = sentence[index-4]\n",
    "        pre_entity_2 = sentence[index-8]\n",
    "    elif(index==3):# this is first word in the sentence\n",
    "        pre_entity_1 = 'NA'\n",
    "        pre_entity_2 = 'NA'\n",
    "    elif(index==7):#this is second word in sentence\n",
    "        token_in_window[1] = sentence[index-7]\n",
    "        pre_entity_1 = sentence[index-4]\n",
    "        pre_entity_2 = 'NA'\n",
    "\n",
    "    token_in_window[2] = sentence[index-3] #current word\n",
    "    \n",
    "    sent_len = len(sentence) \n",
    "    \n",
    "    if(index+3 >= sent_len) :# this is last word\n",
    "        token_in_window[3] = 'NA'\n",
    "    elif(index+7 >= sent_len):# this is second last word in the sentence\n",
    "        token_in_window[3]= sentence[index+1]\n",
    "    else:\n",
    "        token_in_window[3]= sentence[index+1]\n",
    "        token_in_window[4]= sentence[index+5]\n",
    "    \n",
    "    #get the POS and IOB tags for words in window\n",
    "    \n",
    "    pos_tags=[] \n",
    "    iob_tags=[]\n",
    "    \n",
    "    pos_tags[0:5] = ['NA','NA','NA','NA','NA']\n",
    "    iob_tags[0:5] = ['NA','NA','NA','NA','NA']\n",
    "    \n",
    "    is_first_word_in_sentence = 0\n",
    "    is_last_word_in_sentence = 0\n",
    "    is_all_capitalized = 0 \n",
    "    is_first_letter_capitalized = 0 \n",
    "\n",
    "    if sentence[index-3].isupper():\n",
    "        is_all_capitalized = 1\n",
    "    \n",
    "    is_first_letter_capitalized = is_first_letter_in_word_capitalized(sentence[index-3])\n",
    "    \n",
    "    if (index==3):#first word in sentence\n",
    "        # POS for xi−2 , xi-1 will be NA\n",
    "        pos_tags[2] = sentence[index-2]  #pos for xi\n",
    "        iob_tags[2] =  sentence[index-1] #iob for xi\n",
    "        \n",
    "        pos_tags[3] = sentence[index+2] # POS for xi+1\n",
    "        iob_tags[3] =  sentence[index+3] #iob for xi+1\n",
    "\n",
    "        pos_tags[4] = sentence[index+6]# POS for xi+2\n",
    "        iob_tags[4] =  sentence[index+7] #iob for xi+2\n",
    "        \n",
    "        is_first_word_in_sentence = 1\n",
    "\n",
    "    elif ((index==sent_len-3) or (index==sent_len-2) ):    \n",
    "        # POS for xi+1 , xi+2 will be NA\n",
    "        pos_tags[0] = sentence[index-10]  #pos for xi-2\n",
    "        iob_tags[0] =  sentence[index-9] #iob for xi-2\n",
    "        \n",
    "        pos_tags[1] = sentence[index-6] # POS for xi-1\n",
    "        iob_tags[1] =  sentence[index-5] #iob for xi-1\n",
    "\n",
    "        pos_tags[2] = sentence[index-2]# POS for xi\n",
    "        iob_tags[2] =  sentence[index-1] #iob for xi\n",
    "\n",
    "        is_last_word_in_sentence = 1\n",
    "    \n",
    "    elif(index+7 >= sent_len):# this is second last word in the sentence\n",
    "        pos_tags[0] = sentence[index-10]  #pos for xi-2\n",
    "        iob_tags[0] =  sentence[index-9] #iob for xi-2\n",
    "        \n",
    "        pos_tags[1] = sentence[index-6] # POS for xi-1\n",
    "        iob_tags[1] =  sentence[index-5] #iob for xi-1\n",
    "\n",
    "        pos_tags[2] = sentence[index-2]  #pos for xi\n",
    "        iob_tags[2] =  sentence[index-1] #iob for xi\n",
    "        \n",
    "        pos_tags[3] = sentence[index+2] # POS for xi+1\n",
    "        iob_tags[3] =  sentence[index+3] #iob for xi+1\n",
    "\n",
    "    else:  \n",
    "        pos_tags[0] = sentence[index-10]  #pos for xi-2\n",
    "        iob_tags[0] =  sentence[index-9] #iob for xi-2\n",
    "        \n",
    "        pos_tags[1] = sentence[index-6] # POS for xi-1\n",
    "        iob_tags[1] =  sentence[index-5] #iob for xi-1\n",
    "\n",
    "        pos_tags[2] = sentence[index-2]  #pos for xi\n",
    "        iob_tags[2] =  sentence[index-1] #iob for xi\n",
    "        \n",
    "        pos_tags[3] = sentence[index+2] # POS for xi+1\n",
    "        iob_tags[3] =  sentence[index+3] #iob for xi+1\n",
    "\n",
    "        pos_tags[4] = sentence[index+6]# POS for xi+2\n",
    "        iob_tags[4] =  sentence[index+7] #iob for xi+2\n",
    "          \n",
    "    capitalization_pattern  = str(is_first_letter_in_word_capitalized (token_in_window[0]) )\n",
    "    capitalization_pattern += str(is_first_letter_in_word_capitalized (token_in_window[1]) )\n",
    "    capitalization_pattern += str(is_first_letter_in_word_capitalized (token_in_window[2]) )\n",
    "    capitalization_pattern += str(is_first_letter_in_word_capitalized (token_in_window[3]) )\n",
    "    capitalization_pattern += str(is_first_letter_in_word_capitalized (token_in_window[4]) )\n",
    "    \n",
    "    return {\n",
    "        'pre_word_1' : token_in_window[0],\n",
    "        'pre_word_2' : token_in_window[1],\n",
    "        'cur_word'   : token_in_window[2],\n",
    "        'post_word_1': token_in_window[3],\n",
    "        'post_word_2': token_in_window[4],\n",
    "        \n",
    "        'pre_entity_1':pre_entity_1, # this is extended BIO tag\n",
    "        'pre_entity_2':pre_entity_2,\n",
    "        \n",
    "        'pos_tag_1': pos_tags[0],\n",
    "        'pos_tag_2': pos_tags[1], \n",
    "        'pos_tag_3': pos_tags[2],\n",
    "        'pos_tag_4': pos_tags[3], \n",
    "        'pos_tag_5': pos_tags[4],\n",
    "        \n",
    "        'bio_tag_1': iob_tags[0],\n",
    "        'bio_tag_2': iob_tags[1],\n",
    "        'bio_tag_3': iob_tags[2], \n",
    "        'bio_tag_4': iob_tags[3],\n",
    "        'bio_tag_5': iob_tags[4], \n",
    "        \n",
    "        'fw': is_first_word_in_sentence,\n",
    "        'lw': is_last_word_in_sentence,\n",
    "        'acap': is_all_capitalized,\n",
    "        'fcap': is_first_letter_capitalized,\n",
    "        'cap_ptrn':capitalization_pattern\n",
    "       }       "
   ]
  },
  {
   "cell_type": "code",
   "execution_count": 20,
   "metadata": {
    "collapsed": true
   },
   "outputs": [],
   "source": [
    "'''\n",
    "We need to take following out from the input sentence\n",
    "    VB, VBD,VBG,VBZ, CC, CD, IN, NN, DT, NNS, PRP$,RB, JJ, RP, TO,PRP\n",
    "even before supplying to classifier. \n",
    "\n",
    "This is needed becuase else we will end up in creating imbalanced data set with 100 time more entries for OTHER categories\n",
    "\n",
    "Advance concept\n",
    "===============\n",
    "    It is mostly NNP for all entities but\n",
    "\n",
    "    JJ and NNPS -  come in I-PER \n",
    "    JJ , 's , DT followed by JJ ( The Oval) - come in I-LOC \n",
    "\n",
    "    For I-ORG , Syntactic features seems important\n",
    "        i.\tDependency path\n",
    "        ii.\tIOB chain\n",
    "    Like The Test and County Criket Board, \n",
    "'''\n",
    "def include_for_others(sentence,IOB_index):\n",
    "    return 1\n",
    "    #took VBD I-VP O\n",
    "    #Friday NNP I-NP O\n",
    "    if sentence[IOB_index-2] == 'NNP' or sentence[IOB_index-2] == 'IN':\n",
    "        return 1\n",
    "    else:\n",
    "        return 0"
   ]
  },
  {
   "cell_type": "code",
   "execution_count": 21,
   "metadata": {},
   "outputs": [
    {
     "name": "stdout",
     "output_type": "stream",
     "text": [
      "1822\n"
     ]
    }
   ],
   "source": [
    "featuresets =[]\n",
    "'''\n",
    "The CONLL format is \n",
    "LEICESTERSHIRE NNP I-NP I-ORG\n",
    "i.e \n",
    "<word> <POStag> <IOB tag> <IOB tag for Organizayion>\n",
    "\n",
    "Hence i am parsing the sentence in similar way to extract features\n",
    "'''\n",
    "sentenceFeatures = []\n",
    "tags = []\n",
    "for sentence in sentences_with_words:\n",
    "    featuresets = []\n",
    "    sent_len = len(sentence) \n",
    "    num_word = (sent_len-1)/4\n",
    "\n",
    "    if(num_word < 3): #in some case the sentence is of just 1 or 2 words. I am avoiding those sentences for now\n",
    "        continue\n",
    "    count = 0\n",
    "    while (count < num_word):\n",
    "        IOB_index = (count * 4 )+ 3\n",
    "        if ( sentence[IOB_index] == 'I-ORG'):\n",
    "            featuresets.append( (extract_features(sentence,IOB_index) , 'ORG') )\n",
    "        elif ( sentence[IOB_index] == 'I-LOC'):\n",
    "            featuresets.append( (extract_features(sentence,IOB_index) , 'LOC') )\n",
    "        elif ( sentence[IOB_index] == 'I-PER'):\n",
    "            featuresets.append( (extract_features(sentence,IOB_index) , 'PER') )\n",
    "        elif ( sentence[IOB_index] == 'I-MISC'):\n",
    "            featuresets.append( (extract_features(sentence,IOB_index) , 'MISC') )\n",
    "        elif include_for_others(sentence,IOB_index):\n",
    "            featuresets.append( (extract_features(sentence,IOB_index) , 'OTHER') )\n",
    " \n",
    "        count = count + 1\n",
    "    sentenceFeatures.append(featuresets)\n",
    "    \n",
    "print len(sentenceFeatures)\n",
    "#print featuresets\n",
    "#Sample feature set should be list of tuples which should look like \n",
    "#[({'ed': 4, 'rel_type': 'PL', 'ps2': 0, 'ps1': 0, 'e1': 'Person', 'e2': 'Location'}, 'positive'), \n",
    "#({'ed': 1, 'rel_type': 'CL', 'ps2': 0, 'ps1': 0, 'e1': 'Company', 'e2': 'Location'}, 'positive'), \n",
    "#({'ed': 2, 'rel_type': 'PL', 'ps2': 0, 'ps1': 1, 'e1': 'Person', 'e2': 'Location'}, 'negative')]"
   ]
  },
  {
   "cell_type": "code",
   "execution_count": 22,
   "metadata": {},
   "outputs": [],
   "source": [
    "#print sentenceFeatures[10:15]"
   ]
  },
  {
   "cell_type": "code",
   "execution_count": 23,
   "metadata": {
    "scrolled": true
   },
   "outputs": [
    {
     "name": "stdout",
     "output_type": "stream",
     "text": [
      "1822\n",
      "Wall time: 68 ms\n"
     ]
    }
   ],
   "source": [
    "%%time\n",
    "\n",
    "X_test=[[]]\n",
    "Y_test = [[]]\n",
    "\n",
    "lengthtest = len(sentenceFeatures)\n",
    "print lengthtest\n",
    "\n",
    "for sent in sentenceFeatures[0:lengthtest]:\n",
    "    #print sent\n",
    "    temp1 = []\n",
    "    temp2 = []\n",
    "    for word in sent:\n",
    "        temp1.append(word[0])\n",
    "        temp2.append(word[1])\n",
    "    X_test.append(temp1)\n",
    "    Y_test.append(temp2)\n",
    "    \n",
    "    temp1 = []\n",
    "    temp2 = []\n"
   ]
  },
  {
   "cell_type": "code",
   "execution_count": 24,
   "metadata": {},
   "outputs": [
    {
     "data": {
      "text/plain": [
       "<contextlib.closing at 0x160e0b70>"
      ]
     },
     "execution_count": 24,
     "metadata": {},
     "output_type": "execute_result"
    }
   ],
   "source": [
    "tagger = pycrfsuite.Tagger()\n",
    "tagger.open('D:\\\\pb_anshul\\\\temp\\\\temp_prj\\\\nlp_prj\\\\NER\\\\CRF\\\\conllCRF.crfsuite')"
   ]
  },
  {
   "cell_type": "code",
   "execution_count": 25,
   "metadata": {},
   "outputs": [
    {
     "name": "stdout",
     "output_type": "stream",
     "text": [
      "['OTHER', 'OTHER', 'PER', 'OTHER', 'LOC', 'LOC', 'OTHER', 'OTHER', 'OTHER', 'OTHER', 'OTHER']\n",
      "['OTHER', 'OTHER', 'LOC', 'OTHER', 'OTHER', 'OTHER', 'OTHER', 'PER', 'OTHER', 'OTHER', 'OTHER']\n"
     ]
    }
   ],
   "source": [
    "print tagger.tag(X_test[1])\n",
    "print Y_test[1]"
   ]
  },
  {
   "cell_type": "code",
   "execution_count": 26,
   "metadata": {
    "scrolled": true
   },
   "outputs": [
    {
     "name": "stdout",
     "output_type": "stream",
     "text": [
      "1823\n",
      "44973\n",
      "      |                       O       |\n",
      "      |           M           T       |\n",
      "      |     L     I     O     H     P |\n",
      "      |     O     S     R     E     E |\n",
      "      |     C     C     G     R     R |\n",
      "------+-------------------------------+\n",
      "  LOC | <1336>   21    71   111    48 |\n",
      " MISC |    34  <586>   33    95    22 |\n",
      "  ORG |   111    22 <1881>  141    75 |\n",
      "OTHER |    95    92   214<37701>  115 |\n",
      "  PER |    63    11    17    69 <2009>|\n",
      "------+-------------------------------+\n",
      "(row = reference; col = test)\n",
      "\n"
     ]
    }
   ],
   "source": [
    "from nltk.metrics import ConfusionMatrix\n",
    "Y_pred=[]\n",
    "for row in X_test:\n",
    "    Y_pred.append(tagger.tag(row))\n",
    "print len(Y_pred)\n",
    "new_y_Pred=[]\n",
    "new_y_Test=[]\n",
    "for row in Y_test:\n",
    "    new_y_Test=new_y_Test+row\n",
    "\n",
    "for row in Y_pred:\n",
    "    new_y_Pred=new_y_Pred+row\n",
    "print len(new_y_Test)\n",
    "#Y_pred = tagger.tag(X_test[1])\n",
    "cm = ConfusionMatrix(new_y_Test, new_y_Pred)\n",
    "print cm\n"
   ]
  },
  {
   "cell_type": "code",
   "execution_count": 27,
   "metadata": {},
   "outputs": [],
   "source": [
    "from collections import Counter\n",
    "true_positives = Counter()\n",
    "false_negatives = Counter()\n",
    "false_positives = Counter()\n"
   ]
  },
  {
   "cell_type": "code",
   "execution_count": 28,
   "metadata": {},
   "outputs": [
    {
     "name": "stdout",
     "output_type": "stream",
     "text": [
      "TP: 43513 Counter({'OTHER': 37701, 'PER': 2009, 'ORG': 1881, 'LOC': 1336, 'MISC': 586})\n",
      "FN: 1460 Counter({'OTHER': 516, 'ORG': 349, 'LOC': 251, 'MISC': 184, 'PER': 160})\n",
      "FP: 1460 Counter({'OTHER': 416, 'ORG': 335, 'LOC': 303, 'PER': 260, 'MISC': 146})\n",
      "Accuracy 93.7113690694\n",
      "\n",
      "Fscore for each label\n",
      "LOC 0.828270303782\n",
      "MISC 0.780292942743\n",
      "ORG 0.846153846154\n",
      "OTHER 0.987790499646\n",
      "PER 0.905362776025\n"
     ]
    }
   ],
   "source": [
    "labels = set('LOC MISC ORG OTHER PER'.split())\n",
    "for i in labels:\n",
    "    for j in labels:\n",
    "        if i == j:\n",
    "            true_positives[i] += cm[i,j]\n",
    "        else:\n",
    "            false_negatives[i] += cm[i,j]\n",
    "            false_positives[j] += cm[i,j]\n",
    "\n",
    "print \"TP:\", sum(true_positives.values()), true_positives\n",
    "print \"FN:\", sum(false_negatives.values()), false_negatives\n",
    "print \"FP:\", sum(false_positives.values()), false_positives\n",
    "\n",
    "print \"Accuracy\", float(sum(true_positives.values()))*100/(sum(true_positives.values()) + sum(false_negatives.values()) + sum(false_positives.values()))\n",
    "print \n",
    "\n",
    "print \"Fscore for each label\"\n",
    "for i in sorted(labels):\n",
    "    if true_positives[i] == 0:\n",
    "        fscore = 0\n",
    "    else:\n",
    "        precision = true_positives[i] / float(true_positives[i]+false_positives[i])\n",
    "        recall = true_positives[i] / float(true_positives[i]+false_negatives[i])\n",
    "        fscore = 2 * (precision * recall) / float(precision + recall)\n",
    "    print i, fscore\n"
   ]
  },
  {
   "cell_type": "code",
   "execution_count": null,
   "metadata": {
    "collapsed": true
   },
   "outputs": [],
   "source": []
  }
 ],
 "metadata": {
  "kernelspec": {
   "display_name": "Python 3",
   "language": "python",
   "name": "python3"
  },
  "language_info": {
   "codemirror_mode": {
    "name": "ipython",
    "version": 3
   },
   "file_extension": ".py",
   "mimetype": "text/x-python",
   "name": "python",
   "nbconvert_exporter": "python",
   "pygments_lexer": "ipython3",
   "version": "3.6.1"
  }
 },
 "nbformat": 4,
 "nbformat_minor": 1
}
