{
 "cells": [
  {
   "cell_type": "code",
   "execution_count": null,
   "metadata": {},
   "outputs": [],
   "source": [
    "#https://www.analyticsvidhya.com/blog/2018/06/unsupervised-deep-learning-computer-vision/"
   ]
  },
  {
   "cell_type": "code",
   "execution_count": 1,
   "metadata": {},
   "outputs": [
    {
     "name": "stderr",
     "output_type": "stream",
     "text": [
      "Using TensorFlow backend.\n",
      "/Users/ritesh.ratti/anaconda3/lib/python3.6/site-packages/tensorflow/python/framework/dtypes.py:516: FutureWarning: Passing (type, 1) or '1type' as a synonym of type is deprecated; in a future version of numpy, it will be understood as (type, (1,)) / '(1,)type'.\n",
      "  _np_qint8 = np.dtype([(\"qint8\", np.int8, 1)])\n",
      "/Users/ritesh.ratti/anaconda3/lib/python3.6/site-packages/tensorflow/python/framework/dtypes.py:517: FutureWarning: Passing (type, 1) or '1type' as a synonym of type is deprecated; in a future version of numpy, it will be understood as (type, (1,)) / '(1,)type'.\n",
      "  _np_quint8 = np.dtype([(\"quint8\", np.uint8, 1)])\n",
      "/Users/ritesh.ratti/anaconda3/lib/python3.6/site-packages/tensorflow/python/framework/dtypes.py:518: FutureWarning: Passing (type, 1) or '1type' as a synonym of type is deprecated; in a future version of numpy, it will be understood as (type, (1,)) / '(1,)type'.\n",
      "  _np_qint16 = np.dtype([(\"qint16\", np.int16, 1)])\n",
      "/Users/ritesh.ratti/anaconda3/lib/python3.6/site-packages/tensorflow/python/framework/dtypes.py:519: FutureWarning: Passing (type, 1) or '1type' as a synonym of type is deprecated; in a future version of numpy, it will be understood as (type, (1,)) / '(1,)type'.\n",
      "  _np_quint16 = np.dtype([(\"quint16\", np.uint16, 1)])\n",
      "/Users/ritesh.ratti/anaconda3/lib/python3.6/site-packages/tensorflow/python/framework/dtypes.py:520: FutureWarning: Passing (type, 1) or '1type' as a synonym of type is deprecated; in a future version of numpy, it will be understood as (type, (1,)) / '(1,)type'.\n",
      "  _np_qint32 = np.dtype([(\"qint32\", np.int32, 1)])\n",
      "/Users/ritesh.ratti/anaconda3/lib/python3.6/site-packages/tensorflow/python/framework/dtypes.py:525: FutureWarning: Passing (type, 1) or '1type' as a synonym of type is deprecated; in a future version of numpy, it will be understood as (type, (1,)) / '(1,)type'.\n",
      "  np_resource = np.dtype([(\"resource\", np.ubyte, 1)])\n",
      "/Users/ritesh.ratti/anaconda3/lib/python3.6/site-packages/tensorboard/compat/tensorflow_stub/dtypes.py:541: FutureWarning: Passing (type, 1) or '1type' as a synonym of type is deprecated; in a future version of numpy, it will be understood as (type, (1,)) / '(1,)type'.\n",
      "  _np_qint8 = np.dtype([(\"qint8\", np.int8, 1)])\n",
      "/Users/ritesh.ratti/anaconda3/lib/python3.6/site-packages/tensorboard/compat/tensorflow_stub/dtypes.py:542: FutureWarning: Passing (type, 1) or '1type' as a synonym of type is deprecated; in a future version of numpy, it will be understood as (type, (1,)) / '(1,)type'.\n",
      "  _np_quint8 = np.dtype([(\"quint8\", np.uint8, 1)])\n",
      "/Users/ritesh.ratti/anaconda3/lib/python3.6/site-packages/tensorboard/compat/tensorflow_stub/dtypes.py:543: FutureWarning: Passing (type, 1) or '1type' as a synonym of type is deprecated; in a future version of numpy, it will be understood as (type, (1,)) / '(1,)type'.\n",
      "  _np_qint16 = np.dtype([(\"qint16\", np.int16, 1)])\n",
      "/Users/ritesh.ratti/anaconda3/lib/python3.6/site-packages/tensorboard/compat/tensorflow_stub/dtypes.py:544: FutureWarning: Passing (type, 1) or '1type' as a synonym of type is deprecated; in a future version of numpy, it will be understood as (type, (1,)) / '(1,)type'.\n",
      "  _np_quint16 = np.dtype([(\"quint16\", np.uint16, 1)])\n",
      "/Users/ritesh.ratti/anaconda3/lib/python3.6/site-packages/tensorboard/compat/tensorflow_stub/dtypes.py:545: FutureWarning: Passing (type, 1) or '1type' as a synonym of type is deprecated; in a future version of numpy, it will be understood as (type, (1,)) / '(1,)type'.\n",
      "  _np_qint32 = np.dtype([(\"qint32\", np.int32, 1)])\n",
      "/Users/ritesh.ratti/anaconda3/lib/python3.6/site-packages/tensorboard/compat/tensorflow_stub/dtypes.py:550: FutureWarning: Passing (type, 1) or '1type' as a synonym of type is deprecated; in a future version of numpy, it will be understood as (type, (1,)) / '(1,)type'.\n",
      "  np_resource = np.dtype([(\"resource\", np.ubyte, 1)])\n"
     ]
    }
   ],
   "source": [
    "from keras.datasets import fashion_mnist"
   ]
  },
  {
   "cell_type": "code",
   "execution_count": 33,
   "metadata": {},
   "outputs": [],
   "source": [
    "import os\n",
    "import keras\n",
    "import numpy as np\n",
    "import pandas as pd\n",
    "import keras.backend as K\n",
    "\n",
    "from time import time\n",
    "from sklearn.cluster import KMeans\n",
    "from keras import callbacks\n",
    "from keras.models import Model\n",
    "from keras.optimizers import SGD\n",
    "from keras.layers import Dense, Input\n",
    "from keras.initializers import VarianceScaling\n",
    "from keras.engine.topology import Layer, InputSpec\n",
    "from keras.models import Sequential\n",
    "from scipy.misc import imread\n",
    "from sklearn.metrics import accuracy_score, normalized_mutual_info_score"
   ]
  },
  {
   "cell_type": "code",
   "execution_count": 4,
   "metadata": {},
   "outputs": [
    {
     "name": "stdout",
     "output_type": "stream",
     "text": [
      "Downloading data from http://fashion-mnist.s3-website.eu-central-1.amazonaws.com/train-labels-idx1-ubyte.gz\n",
      "32768/29515 [=================================] - 1s 44us/step\n",
      "Downloading data from http://fashion-mnist.s3-website.eu-central-1.amazonaws.com/train-images-idx3-ubyte.gz\n",
      "26427392/26421880 [==============================] - 247s 9us/step\n",
      "Downloading data from http://fashion-mnist.s3-website.eu-central-1.amazonaws.com/t10k-labels-idx1-ubyte.gz\n",
      "8192/5148 [===============================================] - 0s 1us/step\n",
      "Downloading data from http://fashion-mnist.s3-website.eu-central-1.amazonaws.com/t10k-images-idx3-ubyte.gz\n",
      "4423680/4422102 [==============================] - 41s 9us/step\n"
     ]
    }
   ],
   "source": [
    "(train_x, train_y), (val_x, val_y) = fashion_mnist.load_data()"
   ]
  },
  {
   "cell_type": "code",
   "execution_count": 5,
   "metadata": {},
   "outputs": [],
   "source": [
    "train_x = train_x/255.\n",
    "val_x = val_x/255.\n",
    "\n",
    "train_x = train_x.reshape(-1, 784)\n",
    "val_x = val_x.reshape(-1, 784)"
   ]
  },
  {
   "cell_type": "markdown",
   "metadata": {},
   "source": [
    "# AUTOENCODER"
   ]
  },
  {
   "cell_type": "code",
   "execution_count": 11,
   "metadata": {},
   "outputs": [
    {
     "name": "stdout",
     "output_type": "stream",
     "text": [
      "WARNING:tensorflow:From /Users/ritesh.ratti/anaconda3/lib/python3.6/site-packages/keras/backend/tensorflow_backend.py:66: The name tf.get_default_graph is deprecated. Please use tf.compat.v1.get_default_graph instead.\n",
      "\n",
      "WARNING:tensorflow:From /Users/ritesh.ratti/anaconda3/lib/python3.6/site-packages/keras/backend/tensorflow_backend.py:541: The name tf.placeholder is deprecated. Please use tf.compat.v1.placeholder instead.\n",
      "\n",
      "WARNING:tensorflow:From /Users/ritesh.ratti/anaconda3/lib/python3.6/site-packages/keras/backend/tensorflow_backend.py:4432: The name tf.random_uniform is deprecated. Please use tf.random.uniform instead.\n",
      "\n"
     ]
    }
   ],
   "source": [
    "# this is our input placeholder\n",
    "input_img = Input(shape=(784,))\n",
    "\n",
    "# \"encoded\" is the encoded representation of the input\n",
    "encoded = Dense(2000, activation='relu')(input_img)\n",
    "encoded = Dense(500, activation='relu')(encoded)\n",
    "encoded = Dense(500, activation='relu')(encoded)\n",
    "encoded = Dense(10, activation='sigmoid')(encoded)\n",
    "\n",
    "# \"decoded\" is the lossy reconstruction of the input\n",
    "decoded = Dense(500, activation='relu')(encoded)\n",
    "decoded = Dense(500, activation='relu')(decoded)\n",
    "decoded = Dense(2000, activation='relu')(decoded)\n",
    "decoded = Dense(784)(decoded)\n",
    "\n",
    "# this model maps an input to its reconstruction\n",
    "autoencoder = Model(input_img, decoded)"
   ]
  },
  {
   "cell_type": "code",
   "execution_count": 12,
   "metadata": {},
   "outputs": [],
   "source": [
    "#  this model maps an input to its encoded representation\n",
    "encoder = Model(input_img, encoded)"
   ]
  },
  {
   "cell_type": "code",
   "execution_count": 13,
   "metadata": {},
   "outputs": [
    {
     "name": "stdout",
     "output_type": "stream",
     "text": [
      "WARNING:tensorflow:From /Users/ritesh.ratti/anaconda3/lib/python3.6/site-packages/keras/optimizers.py:793: The name tf.train.Optimizer is deprecated. Please use tf.compat.v1.train.Optimizer instead.\n",
      "\n"
     ]
    }
   ],
   "source": [
    "autoencoder.compile(optimizer='adam', loss='mse')"
   ]
  },
  {
   "cell_type": "code",
   "execution_count": 14,
   "metadata": {},
   "outputs": [],
   "source": [
    "estop = keras.callbacks.EarlyStopping(monitor='val_loss', min_delta=0, patience=10, verbose=1, mode='auto')"
   ]
  },
  {
   "cell_type": "code",
   "execution_count": 15,
   "metadata": {},
   "outputs": [
    {
     "name": "stdout",
     "output_type": "stream",
     "text": [
      "WARNING:tensorflow:From /Users/ritesh.ratti/anaconda3/lib/python3.6/site-packages/keras/backend/tensorflow_backend.py:1033: The name tf.assign_add is deprecated. Please use tf.compat.v1.assign_add instead.\n",
      "\n",
      "WARNING:tensorflow:From /Users/ritesh.ratti/anaconda3/lib/python3.6/site-packages/keras/backend/tensorflow_backend.py:1020: The name tf.assign is deprecated. Please use tf.compat.v1.assign instead.\n",
      "\n",
      "Train on 60000 samples, validate on 10000 samples\n",
      "Epoch 1/500\n",
      "60000/60000 [==============================] - 8s 136us/step - loss: 0.0912 - val_loss: 0.0690\n",
      "Epoch 2/500\n",
      "60000/60000 [==============================] - 8s 128us/step - loss: 0.0606 - val_loss: 0.0493\n",
      "Epoch 3/500\n",
      "60000/60000 [==============================] - 8s 126us/step - loss: 0.0429 - val_loss: 0.0384\n",
      "Epoch 4/500\n",
      "60000/60000 [==============================] - 8s 126us/step - loss: 0.0384 - val_loss: 0.0348\n",
      "Epoch 5/500\n",
      "60000/60000 [==============================] - 8s 131us/step - loss: 0.0329 - val_loss: 0.0307\n",
      "Epoch 6/500\n",
      "60000/60000 [==============================] - 9s 145us/step - loss: 0.0295 - val_loss: 0.0280\n",
      "Epoch 7/500\n",
      "60000/60000 [==============================] - 9s 142us/step - loss: 0.0268 - val_loss: 0.0257\n",
      "Epoch 8/500\n",
      "60000/60000 [==============================] - 9s 146us/step - loss: 0.0248 - val_loss: 0.0240\n",
      "Epoch 9/500\n",
      "60000/60000 [==============================] - 9s 145us/step - loss: 0.0238 - val_loss: 0.0231\n",
      "Epoch 10/500\n",
      "60000/60000 [==============================] - 9s 146us/step - loss: 0.0227 - val_loss: 0.0223\n",
      "Epoch 11/500\n",
      "60000/60000 [==============================] - 8s 138us/step - loss: 0.0219 - val_loss: 0.0218\n",
      "Epoch 12/500\n",
      "60000/60000 [==============================] - 9s 148us/step - loss: 0.0210 - val_loss: 0.0222\n",
      "Epoch 13/500\n",
      "60000/60000 [==============================] - 9s 146us/step - loss: 0.0204 - val_loss: 0.0199\n",
      "Epoch 14/500\n",
      "60000/60000 [==============================] - 9s 146us/step - loss: 0.0197 - val_loss: 0.0194\n",
      "Epoch 15/500\n",
      "60000/60000 [==============================] - 9s 143us/step - loss: 0.0194 - val_loss: 0.0191\n",
      "Epoch 16/500\n",
      "60000/60000 [==============================] - 9s 144us/step - loss: 0.0188 - val_loss: 0.0188\n",
      "Epoch 17/500\n",
      "60000/60000 [==============================] - 9s 152us/step - loss: 0.0183 - val_loss: 0.0183\n",
      "Epoch 18/500\n",
      "60000/60000 [==============================] - 9s 158us/step - loss: 0.0181 - val_loss: 0.0178\n",
      "Epoch 19/500\n",
      "60000/60000 [==============================] - 9s 142us/step - loss: 0.0176 - val_loss: 0.0176\n",
      "Epoch 20/500\n",
      "60000/60000 [==============================] - 8s 140us/step - loss: 0.0172 - val_loss: 0.0175\n",
      "Epoch 21/500\n",
      "60000/60000 [==============================] - 9s 142us/step - loss: 0.0174 - val_loss: 0.0170\n",
      "Epoch 22/500\n",
      "60000/60000 [==============================] - 9s 143us/step - loss: 0.0165 - val_loss: 0.0165\n",
      "Epoch 23/500\n",
      "60000/60000 [==============================] - 9s 147us/step - loss: 0.0167 - val_loss: 0.0163\n",
      "Epoch 24/500\n",
      "60000/60000 [==============================] - 9s 144us/step - loss: 0.0161 - val_loss: 0.0163\n",
      "Epoch 25/500\n",
      "60000/60000 [==============================] - 9s 148us/step - loss: 0.0158 - val_loss: 0.0158\n",
      "Epoch 26/500\n",
      "60000/60000 [==============================] - 9s 148us/step - loss: 0.0155 - val_loss: 0.0156\n",
      "Epoch 27/500\n",
      "60000/60000 [==============================] - 9s 144us/step - loss: 0.0155 - val_loss: 0.0154\n",
      "Epoch 28/500\n",
      "60000/60000 [==============================] - 9s 145us/step - loss: 0.0150 - val_loss: 0.0157\n",
      "Epoch 29/500\n",
      "60000/60000 [==============================] - 9s 142us/step - loss: 0.0149 - val_loss: 0.0148\n",
      "Epoch 30/500\n",
      "60000/60000 [==============================] - 9s 148us/step - loss: 0.0149 - val_loss: 0.0150\n",
      "Epoch 31/500\n",
      "60000/60000 [==============================] - 9s 149us/step - loss: 0.0145 - val_loss: 0.0145\n",
      "Epoch 32/500\n",
      "60000/60000 [==============================] - 9s 154us/step - loss: 0.0143 - val_loss: 0.0150\n",
      "Epoch 33/500\n",
      "60000/60000 [==============================] - 9s 149us/step - loss: 0.0144 - val_loss: 0.0143\n",
      "Epoch 34/500\n",
      "60000/60000 [==============================] - 10s 164us/step - loss: 0.0142 - val_loss: 0.0146\n",
      "Epoch 35/500\n",
      "60000/60000 [==============================] - 8s 138us/step - loss: 0.0139 - val_loss: 0.0140\n",
      "Epoch 36/500\n",
      "60000/60000 [==============================] - 9s 143us/step - loss: 0.0138 - val_loss: 0.0144\n",
      "Epoch 37/500\n",
      "60000/60000 [==============================] - 9s 157us/step - loss: 0.0137 - val_loss: 0.0139\n",
      "Epoch 38/500\n",
      "60000/60000 [==============================] - 11s 190us/step - loss: 0.0138 - val_loss: 0.0138\n",
      "Epoch 39/500\n",
      "60000/60000 [==============================] - 15s 243us/step - loss: 0.0135 - val_loss: 0.0139\n",
      "Epoch 40/500\n",
      "60000/60000 [==============================] - 11s 191us/step - loss: 0.0135 - val_loss: 0.0137\n",
      "Epoch 41/500\n",
      "60000/60000 [==============================] - 11s 179us/step - loss: 0.0135 - val_loss: 0.0136\n",
      "Epoch 42/500\n",
      "60000/60000 [==============================] - 15s 247us/step - loss: 0.0133 - val_loss: 0.0136\n",
      "Epoch 43/500\n",
      "60000/60000 [==============================] - 13s 214us/step - loss: 0.0132 - val_loss: 0.0136\n",
      "Epoch 44/500\n",
      "60000/60000 [==============================] - 9s 152us/step - loss: 0.0132 - val_loss: 0.0135\n",
      "Epoch 45/500\n",
      "60000/60000 [==============================] - 10s 162us/step - loss: 0.0132 - val_loss: 0.0133\n",
      "Epoch 46/500\n",
      "60000/60000 [==============================] - 11s 188us/step - loss: 0.0131 - val_loss: 0.0134\n",
      "Epoch 47/500\n",
      "60000/60000 [==============================] - 12s 207us/step - loss: 0.0130 - val_loss: 0.0134\n",
      "Epoch 48/500\n",
      "60000/60000 [==============================] - 12s 208us/step - loss: 0.0129 - val_loss: 0.0131\n",
      "Epoch 49/500\n",
      "60000/60000 [==============================] - 11s 182us/step - loss: 0.0129 - val_loss: 0.0132\n",
      "Epoch 50/500\n",
      "60000/60000 [==============================] - 10s 159us/step - loss: 0.0128 - val_loss: 0.0131\n",
      "Epoch 51/500\n",
      "60000/60000 [==============================] - 9s 147us/step - loss: 0.0127 - val_loss: 0.0131\n",
      "Epoch 52/500\n",
      "60000/60000 [==============================] - 9s 150us/step - loss: 0.0127 - val_loss: 0.0130\n",
      "Epoch 53/500\n",
      "60000/60000 [==============================] - 9s 148us/step - loss: 0.0126 - val_loss: 0.0130\n",
      "Epoch 54/500\n",
      "60000/60000 [==============================] - 9s 149us/step - loss: 0.0126 - val_loss: 0.0133\n",
      "Epoch 55/500\n",
      "60000/60000 [==============================] - 9s 155us/step - loss: 0.0126 - val_loss: 0.0128\n",
      "Epoch 56/500\n",
      "60000/60000 [==============================] - 11s 177us/step - loss: 0.0125 - val_loss: 0.0128\n",
      "Epoch 57/500\n",
      "60000/60000 [==============================] - 10s 167us/step - loss: 0.0125 - val_loss: 0.0128\n",
      "Epoch 58/500\n",
      "60000/60000 [==============================] - 10s 165us/step - loss: 0.0124 - val_loss: 0.0128\n",
      "Epoch 59/500\n",
      "60000/60000 [==============================] - 10s 163us/step - loss: 0.0123 - val_loss: 0.0127\n",
      "Epoch 60/500\n",
      "60000/60000 [==============================] - 10s 161us/step - loss: 0.0125 - val_loss: 0.0127\n",
      "Epoch 61/500\n",
      "28672/60000 [=============>................] - ETA: 4s - loss: 0.0122"
     ]
    },
    {
     "ename": "KeyboardInterrupt",
     "evalue": "",
     "output_type": "error",
     "traceback": [
      "\u001b[0;31m---------------------------------------------------------------------------\u001b[0m",
      "\u001b[0;31mKeyboardInterrupt\u001b[0m                         Traceback (most recent call last)",
      "\u001b[0;32m<ipython-input-15-2674d1d6f014>\u001b[0m in \u001b[0;36m<module>\u001b[0;34m\u001b[0m\n\u001b[0;32m----> 1\u001b[0;31m \u001b[0mtrain_history\u001b[0m \u001b[0;34m=\u001b[0m \u001b[0mautoencoder\u001b[0m\u001b[0;34m.\u001b[0m\u001b[0mfit\u001b[0m\u001b[0;34m(\u001b[0m\u001b[0mtrain_x\u001b[0m\u001b[0;34m,\u001b[0m \u001b[0mtrain_x\u001b[0m\u001b[0;34m,\u001b[0m \u001b[0mepochs\u001b[0m\u001b[0;34m=\u001b[0m\u001b[0;36m500\u001b[0m\u001b[0;34m,\u001b[0m \u001b[0mbatch_size\u001b[0m\u001b[0;34m=\u001b[0m\u001b[0;36m2048\u001b[0m\u001b[0;34m,\u001b[0m \u001b[0mvalidation_data\u001b[0m\u001b[0;34m=\u001b[0m\u001b[0;34m(\u001b[0m\u001b[0mval_x\u001b[0m\u001b[0;34m,\u001b[0m \u001b[0mval_x\u001b[0m\u001b[0;34m)\u001b[0m\u001b[0;34m,\u001b[0m \u001b[0mcallbacks\u001b[0m\u001b[0;34m=\u001b[0m\u001b[0;34m[\u001b[0m\u001b[0mestop\u001b[0m\u001b[0;34m]\u001b[0m\u001b[0;34m)\u001b[0m\u001b[0;34m\u001b[0m\u001b[0m\n\u001b[0m",
      "\u001b[0;32m~/anaconda3/lib/python3.6/site-packages/keras/engine/training.py\u001b[0m in \u001b[0;36mfit\u001b[0;34m(self, x, y, batch_size, epochs, verbose, callbacks, validation_split, validation_data, shuffle, class_weight, sample_weight, initial_epoch, steps_per_epoch, validation_steps, validation_freq, max_queue_size, workers, use_multiprocessing, **kwargs)\u001b[0m\n\u001b[1;32m   1176\u001b[0m                                         \u001b[0msteps_per_epoch\u001b[0m\u001b[0;34m=\u001b[0m\u001b[0msteps_per_epoch\u001b[0m\u001b[0;34m,\u001b[0m\u001b[0;34m\u001b[0m\u001b[0m\n\u001b[1;32m   1177\u001b[0m                                         \u001b[0mvalidation_steps\u001b[0m\u001b[0;34m=\u001b[0m\u001b[0mvalidation_steps\u001b[0m\u001b[0;34m,\u001b[0m\u001b[0;34m\u001b[0m\u001b[0m\n\u001b[0;32m-> 1178\u001b[0;31m                                         validation_freq=validation_freq)\n\u001b[0m\u001b[1;32m   1179\u001b[0m \u001b[0;34m\u001b[0m\u001b[0m\n\u001b[1;32m   1180\u001b[0m     def evaluate(self,\n",
      "\u001b[0;32m~/anaconda3/lib/python3.6/site-packages/keras/engine/training_arrays.py\u001b[0m in \u001b[0;36mfit_loop\u001b[0;34m(model, fit_function, fit_inputs, out_labels, batch_size, epochs, verbose, callbacks, val_function, val_inputs, shuffle, callback_metrics, initial_epoch, steps_per_epoch, validation_steps, validation_freq)\u001b[0m\n\u001b[1;32m    202\u001b[0m                     \u001b[0mins_batch\u001b[0m\u001b[0;34m[\u001b[0m\u001b[0mi\u001b[0m\u001b[0;34m]\u001b[0m \u001b[0;34m=\u001b[0m \u001b[0mins_batch\u001b[0m\u001b[0;34m[\u001b[0m\u001b[0mi\u001b[0m\u001b[0;34m]\u001b[0m\u001b[0;34m.\u001b[0m\u001b[0mtoarray\u001b[0m\u001b[0;34m(\u001b[0m\u001b[0;34m)\u001b[0m\u001b[0;34m\u001b[0m\u001b[0m\n\u001b[1;32m    203\u001b[0m \u001b[0;34m\u001b[0m\u001b[0m\n\u001b[0;32m--> 204\u001b[0;31m                 \u001b[0mouts\u001b[0m \u001b[0;34m=\u001b[0m \u001b[0mfit_function\u001b[0m\u001b[0;34m(\u001b[0m\u001b[0mins_batch\u001b[0m\u001b[0;34m)\u001b[0m\u001b[0;34m\u001b[0m\u001b[0m\n\u001b[0m\u001b[1;32m    205\u001b[0m                 \u001b[0mouts\u001b[0m \u001b[0;34m=\u001b[0m \u001b[0mto_list\u001b[0m\u001b[0;34m(\u001b[0m\u001b[0mouts\u001b[0m\u001b[0;34m)\u001b[0m\u001b[0;34m\u001b[0m\u001b[0m\n\u001b[1;32m    206\u001b[0m                 \u001b[0;32mfor\u001b[0m \u001b[0ml\u001b[0m\u001b[0;34m,\u001b[0m \u001b[0mo\u001b[0m \u001b[0;32min\u001b[0m \u001b[0mzip\u001b[0m\u001b[0;34m(\u001b[0m\u001b[0mout_labels\u001b[0m\u001b[0;34m,\u001b[0m \u001b[0mouts\u001b[0m\u001b[0;34m)\u001b[0m\u001b[0;34m:\u001b[0m\u001b[0;34m\u001b[0m\u001b[0m\n",
      "\u001b[0;32m~/anaconda3/lib/python3.6/site-packages/keras/backend/tensorflow_backend.py\u001b[0m in \u001b[0;36m__call__\u001b[0;34m(self, inputs)\u001b[0m\n\u001b[1;32m   2977\u001b[0m                     \u001b[0;32mreturn\u001b[0m \u001b[0mself\u001b[0m\u001b[0;34m.\u001b[0m\u001b[0m_legacy_call\u001b[0m\u001b[0;34m(\u001b[0m\u001b[0minputs\u001b[0m\u001b[0;34m)\u001b[0m\u001b[0;34m\u001b[0m\u001b[0m\n\u001b[1;32m   2978\u001b[0m \u001b[0;34m\u001b[0m\u001b[0m\n\u001b[0;32m-> 2979\u001b[0;31m             \u001b[0;32mreturn\u001b[0m \u001b[0mself\u001b[0m\u001b[0;34m.\u001b[0m\u001b[0m_call\u001b[0m\u001b[0;34m(\u001b[0m\u001b[0minputs\u001b[0m\u001b[0;34m)\u001b[0m\u001b[0;34m\u001b[0m\u001b[0m\n\u001b[0m\u001b[1;32m   2980\u001b[0m         \u001b[0;32melse\u001b[0m\u001b[0;34m:\u001b[0m\u001b[0;34m\u001b[0m\u001b[0m\n\u001b[1;32m   2981\u001b[0m             \u001b[0;32mif\u001b[0m \u001b[0mpy_any\u001b[0m\u001b[0;34m(\u001b[0m\u001b[0mis_tensor\u001b[0m\u001b[0;34m(\u001b[0m\u001b[0mx\u001b[0m\u001b[0;34m)\u001b[0m \u001b[0;32mfor\u001b[0m \u001b[0mx\u001b[0m \u001b[0;32min\u001b[0m \u001b[0minputs\u001b[0m\u001b[0;34m)\u001b[0m\u001b[0;34m:\u001b[0m\u001b[0;34m\u001b[0m\u001b[0m\n",
      "\u001b[0;32m~/anaconda3/lib/python3.6/site-packages/keras/backend/tensorflow_backend.py\u001b[0m in \u001b[0;36m_call\u001b[0;34m(self, inputs)\u001b[0m\n\u001b[1;32m   2935\u001b[0m             \u001b[0mfetched\u001b[0m \u001b[0;34m=\u001b[0m \u001b[0mself\u001b[0m\u001b[0;34m.\u001b[0m\u001b[0m_callable_fn\u001b[0m\u001b[0;34m(\u001b[0m\u001b[0;34m*\u001b[0m\u001b[0marray_vals\u001b[0m\u001b[0;34m,\u001b[0m \u001b[0mrun_metadata\u001b[0m\u001b[0;34m=\u001b[0m\u001b[0mself\u001b[0m\u001b[0;34m.\u001b[0m\u001b[0mrun_metadata\u001b[0m\u001b[0;34m)\u001b[0m\u001b[0;34m\u001b[0m\u001b[0m\n\u001b[1;32m   2936\u001b[0m         \u001b[0;32melse\u001b[0m\u001b[0;34m:\u001b[0m\u001b[0;34m\u001b[0m\u001b[0m\n\u001b[0;32m-> 2937\u001b[0;31m             \u001b[0mfetched\u001b[0m \u001b[0;34m=\u001b[0m \u001b[0mself\u001b[0m\u001b[0;34m.\u001b[0m\u001b[0m_callable_fn\u001b[0m\u001b[0;34m(\u001b[0m\u001b[0;34m*\u001b[0m\u001b[0marray_vals\u001b[0m\u001b[0;34m)\u001b[0m\u001b[0;34m\u001b[0m\u001b[0m\n\u001b[0m\u001b[1;32m   2938\u001b[0m         \u001b[0;32mreturn\u001b[0m \u001b[0mfetched\u001b[0m\u001b[0;34m[\u001b[0m\u001b[0;34m:\u001b[0m\u001b[0mlen\u001b[0m\u001b[0;34m(\u001b[0m\u001b[0mself\u001b[0m\u001b[0;34m.\u001b[0m\u001b[0moutputs\u001b[0m\u001b[0;34m)\u001b[0m\u001b[0;34m]\u001b[0m\u001b[0;34m\u001b[0m\u001b[0m\n\u001b[1;32m   2939\u001b[0m \u001b[0;34m\u001b[0m\u001b[0m\n",
      "\u001b[0;32m~/anaconda3/lib/python3.6/site-packages/tensorflow/python/client/session.py\u001b[0m in \u001b[0;36m__call__\u001b[0;34m(self, *args, **kwargs)\u001b[0m\n\u001b[1;32m   1456\u001b[0m         ret = tf_session.TF_SessionRunCallable(self._session._session,\n\u001b[1;32m   1457\u001b[0m                                                \u001b[0mself\u001b[0m\u001b[0;34m.\u001b[0m\u001b[0m_handle\u001b[0m\u001b[0;34m,\u001b[0m \u001b[0margs\u001b[0m\u001b[0;34m,\u001b[0m\u001b[0;34m\u001b[0m\u001b[0m\n\u001b[0;32m-> 1458\u001b[0;31m                                                run_metadata_ptr)\n\u001b[0m\u001b[1;32m   1459\u001b[0m         \u001b[0;32mif\u001b[0m \u001b[0mrun_metadata\u001b[0m\u001b[0;34m:\u001b[0m\u001b[0;34m\u001b[0m\u001b[0m\n\u001b[1;32m   1460\u001b[0m           \u001b[0mproto_data\u001b[0m \u001b[0;34m=\u001b[0m \u001b[0mtf_session\u001b[0m\u001b[0;34m.\u001b[0m\u001b[0mTF_GetBuffer\u001b[0m\u001b[0;34m(\u001b[0m\u001b[0mrun_metadata_ptr\u001b[0m\u001b[0;34m)\u001b[0m\u001b[0;34m\u001b[0m\u001b[0m\n",
      "\u001b[0;31mKeyboardInterrupt\u001b[0m: "
     ]
    }
   ],
   "source": [
    "train_history = autoencoder.fit(train_x, train_x, epochs=500, batch_size=2048, validation_data=(val_x, val_x), callbacks=[estop])"
   ]
  },
  {
   "cell_type": "code",
   "execution_count": 16,
   "metadata": {},
   "outputs": [],
   "source": [
    "pred = autoencoder.predict(val_x)"
   ]
  },
  {
   "cell_type": "code",
   "execution_count": 20,
   "metadata": {},
   "outputs": [
    {
     "data": {
      "text/plain": [
       "<matplotlib.image.AxesImage at 0x1482b35f8>"
      ]
     },
     "execution_count": 20,
     "metadata": {},
     "output_type": "execute_result"
    },
    {
     "data": {
      "image/png": "[encoded data removed]",
      "text/plain": [
       "<matplotlib.figure.Figure at 0x14823bef0>"
      ]
     },
     "metadata": {
      "needs_background": "light"
     },
     "output_type": "display_data"
    }
   ],
   "source": [
    "import matplotlib.pyplot as plt\n",
    "plt.imshow(pred[0].reshape(28, 28), cmap='gray')"
   ]
  },
  {
   "cell_type": "code",
   "execution_count": 21,
   "metadata": {},
   "outputs": [
    {
     "data": {
      "text/plain": [
       "<matplotlib.image.AxesImage at 0x1483524e0>"
      ]
     },
     "execution_count": 21,
     "metadata": {},
     "output_type": "execute_result"
    },
    {
     "data": {
      "image/png": "[encoded data removed]",
      "text/plain": [
       "<matplotlib.figure.Figure at 0x148288940>"
      ]
     },
     "metadata": {
      "needs_background": "light"
     },
     "output_type": "display_data"
    }
   ],
   "source": [
    "plt.imshow(val_x[0].reshape(28, 28), cmap='gray')"
   ]
  },
  {
   "cell_type": "code",
   "execution_count": 39,
   "metadata": {},
   "outputs": [],
   "source": [
    "#. ENCODE IMAGE using AUTOENCODER"
   ]
  },
  {
   "cell_type": "code",
   "execution_count": 36,
   "metadata": {},
   "outputs": [],
   "source": [
    "# Extract layers \n",
    "def extract_layers(main_model, starting_layer_ix, ending_layer_ix):\n",
    "  # create an empty model\n",
    "    new_model = Sequential()\n",
    "    for ix in range(starting_layer_ix, ending_layer_ix + 1):\n",
    "        curr_layer = main_model.get_layer(index=ix)\n",
    "        # copy this layer over to the new model\n",
    "        new_model.add(curr_layer)\n",
    "    return new_model\n"
   ]
  },
  {
   "cell_type": "code",
   "execution_count": 29,
   "metadata": {},
   "outputs": [
    {
     "name": "stdout",
     "output_type": "stream",
     "text": [
      "Model: \"model_1\"\n",
      "_________________________________________________________________\n",
      "Layer (type)                 Output Shape              Param #   \n",
      "=================================================================\n",
      "input_1 (InputLayer)         (None, 784)               0         \n",
      "_________________________________________________________________\n",
      "dense_1 (Dense)              (None, 2000)              1570000   \n",
      "_________________________________________________________________\n",
      "dense_2 (Dense)              (None, 500)               1000500   \n",
      "_________________________________________________________________\n",
      "dense_3 (Dense)              (None, 500)               250500    \n",
      "_________________________________________________________________\n",
      "dense_4 (Dense)              (None, 10)                5010      \n",
      "_________________________________________________________________\n",
      "dense_5 (Dense)              (None, 500)               5500      \n",
      "_________________________________________________________________\n",
      "dense_6 (Dense)              (None, 500)               250500    \n",
      "_________________________________________________________________\n",
      "dense_7 (Dense)              (None, 2000)              1002000   \n",
      "_________________________________________________________________\n",
      "dense_8 (Dense)              (None, 784)               1568784   \n",
      "=================================================================\n",
      "Total params: 5,652,794\n",
      "Trainable params: 5,652,794\n",
      "Non-trainable params: 0\n",
      "_________________________________________________________________\n"
     ]
    }
   ],
   "source": [
    "autoencoder.summary()"
   ]
  },
  {
   "cell_type": "code",
   "execution_count": 37,
   "metadata": {},
   "outputs": [],
   "source": [
    "model1 = extract_layers(autoencoder, 0 , 4)"
   ]
  },
  {
   "cell_type": "code",
   "execution_count": 38,
   "metadata": {},
   "outputs": [
    {
     "name": "stdout",
     "output_type": "stream",
     "text": [
      "Model: \"sequential_2\"\n",
      "_________________________________________________________________\n",
      "Layer (type)                 Output Shape              Param #   \n",
      "=================================================================\n",
      "dense_1 (Dense)              (None, 2000)              1570000   \n",
      "_________________________________________________________________\n",
      "dense_2 (Dense)              (None, 500)               1000500   \n",
      "_________________________________________________________________\n",
      "dense_3 (Dense)              (None, 500)               250500    \n",
      "_________________________________________________________________\n",
      "dense_4 (Dense)              (None, 10)                5010      \n",
      "=================================================================\n",
      "Total params: 2,826,010\n",
      "Trainable params: 2,826,010\n",
      "Non-trainable params: 0\n",
      "_________________________________________________________________\n"
     ]
    }
   ],
   "source": [
    "model1.summary()"
   ]
  },
  {
   "cell_type": "code",
   "execution_count": 40,
   "metadata": {},
   "outputs": [],
   "source": [
    "encoding1 = model1.predict(val_x)"
   ]
  },
  {
   "cell_type": "code",
   "execution_count": 42,
   "metadata": {},
   "outputs": [
    {
     "data": {
      "text/plain": [
       "array([0.20656303, 0.5694029 , 0.82862675, 0.36750895, 0.3586441 ,\n",
       "       0.3731063 , 0.2785989 , 0.5573358 , 0.5689776 , 0.2379938 ],\n",
       "      dtype=float32)"
      ]
     },
     "execution_count": 42,
     "metadata": {},
     "output_type": "execute_result"
    }
   ],
   "source": [
    "encoding1[0]"
   ]
  },
  {
   "cell_type": "markdown",
   "metadata": {},
   "source": [
    "# DENOISING AUTOENCODER (Image Denoising)"
   ]
  },
  {
   "cell_type": "code",
   "execution_count": 43,
   "metadata": {},
   "outputs": [],
   "source": [
    "import os\n",
    "import keras\n",
    "import numpy as np\n",
    "import pandas as pd\n",
    "import keras.backend as K\n",
    "\n",
    "from time import time\n",
    "from sklearn.cluster import KMeans\n",
    "from keras import callbacks\n",
    "from keras.models import Model\n",
    "from keras.optimizers import SGD\n",
    "from keras.layers import Dense, Input, Conv2D, MaxPool2D, UpSampling2D\n",
    "from keras.initializers import VarianceScaling\n",
    "from keras.engine.topology import Layer, InputSpec\n",
    "\n",
    "from scipy.misc import imread\n",
    "from sklearn.metrics import accuracy_score, normalized_mutual_info_score"
   ]
  },
  {
   "cell_type": "code",
   "execution_count": 45,
   "metadata": {},
   "outputs": [
    {
     "name": "stdout",
     "output_type": "stream",
     "text": [
      "Collecting imgaug\n",
      "  Downloading imgaug-0.4.0-py2.py3-none-any.whl (948 kB)\n",
      "\u001b[K     |████████████████████████████████| 948 kB 150 kB/s eta 0:00:01\n",
      "\u001b[?25hRequirement already satisfied: Pillow in /Users/ritesh.ratti/anaconda3/lib/python3.6/site-packages (from imgaug) (6.0.0)\n",
      "Collecting Shapely\n",
      "  Downloading Shapely-1.7.0-cp36-cp36m-macosx_10_9_x86_64.whl (1.6 MB)\n",
      "\u001b[K     |████████████████████████████████| 1.6 MB 99 kB/s eta 0:00:013\n",
      "\u001b[?25hRequirement already satisfied: opencv-python in /Users/ritesh.ratti/anaconda3/lib/python3.6/site-packages (from imgaug) (4.0.0.21)\n",
      "Requirement already satisfied: numpy>=1.15 in /Users/ritesh.ratti/anaconda3/lib/python3.6/site-packages (from imgaug) (1.17.3)\n",
      "Requirement already satisfied: matplotlib in /Users/ritesh.ratti/anaconda3/lib/python3.6/site-packages (from imgaug) (2.1.0)\n",
      "Requirement already satisfied: scipy in /Users/ritesh.ratti/anaconda3/lib/python3.6/site-packages (from imgaug) (1.2.2)\n",
      "Requirement already satisfied: imageio in /Users/ritesh.ratti/anaconda3/lib/python3.6/site-packages (from imgaug) (2.4.1)\n",
      "Requirement already satisfied: six in /Users/ritesh.ratti/anaconda3/lib/python3.6/site-packages (from imgaug) (1.13.0)\n",
      "Collecting scikit-image>=0.14.2\n",
      "  Downloading scikit_image-0.17.2-cp36-cp36m-macosx_10_13_x86_64.whl (12.1 MB)\n",
      "\u001b[K     |████████████████████████████████| 12.1 MB 449 kB/s eta 0:00:01\n",
      "\u001b[?25hRequirement already satisfied: pytz in /Users/ritesh.ratti/anaconda3/lib/python3.6/site-packages (from matplotlib->imgaug) (2019.3)\n",
      "Requirement already satisfied: python-dateutil>=2.0 in /Users/ritesh.ratti/anaconda3/lib/python3.6/site-packages (from matplotlib->imgaug) (2.8.1)\n",
      "Requirement already satisfied: pyparsing!=2.0.4,!=2.1.2,!=2.1.6,>=2.0.1 in /Users/ritesh.ratti/anaconda3/lib/python3.6/site-packages (from matplotlib->imgaug) (2.3.0)\n",
      "Requirement already satisfied: cycler>=0.10 in /Users/ritesh.ratti/anaconda3/lib/python3.6/site-packages (from matplotlib->imgaug) (0.10.0)\n",
      "Collecting tifffile>=2019.7.26\n",
      "  Downloading tifffile-2020.7.4-py3-none-any.whl (138 kB)\n",
      "\u001b[K     |████████████████████████████████| 138 kB 151 kB/s eta 0:00:01\n",
      "\u001b[?25hCollecting PyWavelets>=1.1.1\n",
      "  Downloading PyWavelets-1.1.1-cp36-cp36m-macosx_10_9_x86_64.whl (4.3 MB)\n",
      "\u001b[K     |████████████████████████████████| 4.3 MB 417 kB/s eta 0:00:01\n",
      "\u001b[?25hRequirement already satisfied: networkx>=2.0 in /Users/ritesh.ratti/anaconda3/lib/python3.6/site-packages (from scikit-image>=0.14.2->imgaug) (2.2)\n",
      "Requirement already satisfied: decorator>=4.3.0 in /Users/ritesh.ratti/anaconda3/lib/python3.6/site-packages (from networkx>=2.0->scikit-image>=0.14.2->imgaug) (4.3.0)\n",
      "\u001b[31mERROR: autokeras 0.3.7 has requirement keras==2.2.4, but you'll have keras 2.2.5 which is incompatible.\u001b[0m\n",
      "\u001b[31mERROR: autokeras 0.3.7 has requirement numpy==1.15.4, but you'll have numpy 1.17.3 which is incompatible.\u001b[0m\n",
      "\u001b[31mERROR: autokeras 0.3.7 has requirement pandas==0.23.4, but you'll have pandas 0.25.3 which is incompatible.\u001b[0m\n",
      "\u001b[31mERROR: autokeras 0.3.7 has requirement requests==2.21.0, but you'll have requests 2.22.0 which is incompatible.\u001b[0m\n",
      "\u001b[31mERROR: autokeras 0.3.7 has requirement scikit-image==0.14.2, but you'll have scikit-image 0.17.2 which is incompatible.\u001b[0m\n",
      "\u001b[31mERROR: autokeras 0.3.7 has requirement scikit-learn==0.20.2, but you'll have scikit-learn 0.21.1 which is incompatible.\u001b[0m\n",
      "\u001b[31mERROR: autokeras 0.3.7 has requirement scipy==1.2.0, but you'll have scipy 1.2.2 which is incompatible.\u001b[0m\n",
      "\u001b[31mERROR: autokeras 0.3.7 has requirement tensorflow==1.12.0, but you'll have tensorflow 1.14.0 which is incompatible.\u001b[0m\n",
      "\u001b[31mERROR: autokeras 0.3.7 has requirement tqdm==4.29.1, but you'll have tqdm 4.41.1 which is incompatible.\u001b[0m\n",
      "\u001b[31mERROR: skater 1.1.2 has requirement scikit-image==0.14, but you'll have scikit-image 0.17.2 which is incompatible.\u001b[0m\n",
      "Installing collected packages: Shapely, tifffile, PyWavelets, scikit-image, imgaug\n",
      "  Attempting uninstall: PyWavelets\n",
      "    Found existing installation: PyWavelets 1.0.1\n",
      "    Uninstalling PyWavelets-1.0.1:\n",
      "      Successfully uninstalled PyWavelets-1.0.1\n",
      "  Attempting uninstall: scikit-image\n",
      "    Found existing installation: scikit-image 0.14.0\n",
      "    Uninstalling scikit-image-0.14.0:\n",
      "      Successfully uninstalled scikit-image-0.14.0\n",
      "Successfully installed PyWavelets-1.1.1 Shapely-1.7.0 imgaug-0.4.0 scikit-image-0.17.2 tifffile-2020.7.4\n"
     ]
    }
   ],
   "source": [
    "!pip install imgaug"
   ]
  },
  {
   "cell_type": "code",
   "execution_count": 46,
   "metadata": {},
   "outputs": [],
   "source": [
    "from imgaug import augmenters as iaa\n",
    "seq = iaa.Sequential([iaa.SaltAndPepper(0.2)])\n",
    "\n",
    "train_x_aug = seq.augment_images(train_x)\n",
    "val_x_aug = seq.augment_images(val_x)"
   ]
  },
  {
   "cell_type": "code",
   "execution_count": 47,
   "metadata": {},
   "outputs": [],
   "source": [
    "train_x = train_x/255.\n",
    "val_x = val_x/255.\n",
    "\n",
    "train_x = train_x.reshape(-1, 28, 28, 1)\n",
    "val_x = val_x.reshape(-1, 28, 28, 1)\n",
    "\n",
    "train_x_aug = train_x_aug/255.\n",
    "val_x_aug = val_x_aug/255.\n",
    "\n",
    "train_x_aug = train_x_aug.reshape(-1, 28, 28, 1)\n",
    "val_x_aug = val_x_aug.reshape(-1, 28, 28, 1)"
   ]
  },
  {
   "cell_type": "code",
   "execution_count": null,
   "metadata": {},
   "outputs": [],
   "source": []
  }
 ],
 "metadata": {
  "kernelspec": {
   "display_name": "Python 3",
   "language": "python",
   "name": "python3"
  },
  "language_info": {
   "codemirror_mode": {
    "name": "ipython",
    "version": 3
   },
   "file_extension": ".py",
   "mimetype": "text/x-python",
   "name": "python",
   "nbconvert_exporter": "python",
   "pygments_lexer": "ipython3",
   "version": "3.6.0"
  }
 },
 "nbformat": 4,
 "nbformat_minor": 2
}
