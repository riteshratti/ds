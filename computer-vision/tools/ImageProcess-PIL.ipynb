{
 "cells": [
  {
   "cell_type": "code",
   "execution_count": 1,
   "metadata": {},
   "outputs": [
    {
     "name": "stdout",
     "output_type": "stream",
     "text": [
      "PNG\n",
      "RGBA\n",
      "(1280, 856)\n"
     ]
    }
   ],
   "source": [
    "\n",
    "# load and show an image with Pillow\n",
    "from PIL import Image\n",
    "# load the image\n",
    "image = Image.open('bridge.png')\n",
    "# summarize some details about the image\n",
    "print(image.format)\n",
    "print(image.mode)\n",
    "print(image.size)\n",
    "# show the image\n",
    "image.show()"
   ]
  },
  {
   "cell_type": "code",
   "execution_count": 6,
   "metadata": {},
   "outputs": [
    {
     "name": "stdout",
     "output_type": "stream",
     "text": [
      "Data Type: uint8\n",
      "Min: 0.000, Max: 255.000\n",
      "Min: 0.000, Max: 1.000\n"
     ]
    }
   ],
   "source": [
    "from numpy import asarray\n",
    "from PIL import Image\n",
    "# load image\n",
    "image = Image.open('bridge.png')\n",
    "pixels = asarray(image)\n",
    "# confirm pixel range is 0-255\n",
    "print('Data Type: %s' % pixels.dtype)\n",
    "print('Min: %.3f, Max: %.3f' % (pixels.min(), pixels.max()))\n",
    "# convert from integers to floats\n",
    "pixels = pixels.astype('float32')\n",
    "# normalize to the range 0-1\n",
    "pixels /= 255.0\n",
    "# confirm the normalization\n",
    "print('Min: %.3f, Max: %.3f' % (pixels.min(), pixels.max()))"
   ]
  },
  {
   "cell_type": "code",
   "execution_count": 7,
   "metadata": {},
   "outputs": [
    {
     "name": "stdout",
     "output_type": "stream",
     "text": [
      "Means: [158.43480487 159.58662109 164.9829202  255.        ]\n",
      "Mins: [  0.   0.   0. 255.], Maxs: [255. 255. 255. 255.]\n",
      "Means: [-3.06365524e-07 -1.24562507e-06  4.88580506e-07  0.00000000e+00]\n",
      "Mins: [-158.4348  -159.58662 -164.98293    0.     ], Maxs: [96.56519  95.413376 90.01708   0.      ]\n"
     ]
    }
   ],
   "source": [
    "from numpy import asarray\n",
    "from PIL import Image\n",
    "# load image\n",
    "image = Image.open('bridge.png')\n",
    "pixels = asarray(image)\n",
    "# convert from integers to floats\n",
    "pixels = pixels.astype('float32')\n",
    "# calculate per-channel means and standard deviations\n",
    "means = pixels.mean(axis=(0,1), dtype='float64')\n",
    "print('Means: %s' % means)\n",
    "print('Mins: %s, Maxs: %s' % (pixels.min(axis=(0,1)), pixels.max(axis=(0,1))))\n",
    "# per-channel centering of pixels\n",
    "pixels -= means\n",
    "# confirm it had the desired effect\n",
    "means = pixels.mean(axis=(0,1), dtype='float64')\n",
    "print('Means: %s' % means)\n",
    "print('Mins: %s, Maxs: %s' % (pixels.min(axis=(0,1)), pixels.max(axis=(0,1))))\n"
   ]
  },
  {
   "cell_type": "code",
   "execution_count": null,
   "metadata": {},
   "outputs": [],
   "source": []
  }
 ],
 "metadata": {
  "kernelspec": {
   "display_name": "Python 3",
   "language": "python",
   "name": "python3"
  },
  "language_info": {
   "codemirror_mode": {
    "name": "ipython",
    "version": 3
   },
   "file_extension": ".py",
   "mimetype": "text/x-python",
   "name": "python",
   "nbconvert_exporter": "python",
   "pygments_lexer": "ipython3",
   "version": "3.6.0"
  }
 },
 "nbformat": 4,
 "nbformat_minor": 2
}
